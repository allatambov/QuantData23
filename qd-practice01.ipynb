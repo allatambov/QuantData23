{
 "cells": [
  {
   "cell_type": "markdown",
   "metadata": {},
   "source": [
    "# Основы работы с количественными данными\n",
    "\n",
    "*Алла Тамбовцева*\n",
    "\n",
    "## Практикум 1. Введение в работу с данными"
   ]
  },
  {
   "cell_type": "markdown",
   "metadata": {},
   "source": [
    "### Часть 1: краткое знакомство с Python"
   ]
  },
  {
   "cell_type": "markdown",
   "metadata": {},
   "source": [
    "В Python, вне зависимости от того, с чем мы работаем (с отдельными числами, с набором чисел, с таблицами), интересующие нас объекты имеет смысл сохранять в **переменные**. \n",
    "\n",
    "На переменную можно смотреть как на контейнер, в который можно «положить» любой объект, чтобы потом удобным образом обратиться к нему по короткому названию. Например, мы можем сохранить в переменные `x` и `y` числа 2 и 3, а затем, не переписывая сами числа, производить с ними любые манипуляции:"
   ]
  },
  {
   "cell_type": "code",
   "execution_count": 1,
   "metadata": {},
   "outputs": [
    {
     "data": {
      "text/plain": [
       "7.5"
      ]
     },
     "execution_count": 1,
     "metadata": {},
     "output_type": "execute_result"
    }
   ],
   "source": [
    "x = 2\n",
    "y = 3\n",
    "\n",
    "(x + y) / x * y"
   ]
  },
  {
   "cell_type": "markdown",
   "metadata": {},
   "source": [
    "Если мы хотим изменить значение переменной, мы можем перезаписать его еще раз через `=`:"
   ]
  },
  {
   "cell_type": "code",
   "execution_count": 2,
   "metadata": {},
   "outputs": [
    {
     "data": {
      "text/plain": [
       "5.25"
      ]
     },
     "execution_count": 2,
     "metadata": {},
     "output_type": "execute_result"
    }
   ],
   "source": [
    "# изменяем значение x на 4\n",
    "# смотрим на изменившийся ответ выражения с x и y\n",
    "\n",
    "x = 4\n",
    "(x + y) / x * y"
   ]
  },
  {
   "cell_type": "markdown",
   "metadata": {},
   "source": [
    "Мы будем сохранять в переменные либо **числовые массивы** (если работаем с небольшими выборками), либо **датафреймы** – таблицы с данными (если загружаем реальные данные из файлов Excel). \n",
    "\n",
    "Выполнение операций в Python происходит благодаря операторам или функциям. На **операторы** можно смотреть как на специальные символы, отвечающие за определенные действия. Так, в примерах выше мы уже видели оператор `=` для присваивания значения переменной, оператор `/` для деления, `+` и `*` для сложения и умножения соответственно. На самом деле, операторов больше, и некоторые из них мы увидим позже, например, операторы, позволящие формулировать логические выражения для условий. \n",
    "\n",
    "**Функции** – это своего рода команды, которые выполняют определенные операции. Как и у функций в математике, у функций в Python есть аргумент – то, к чему эту функцию необходимо применить, чтобы получить результат. Аргумент указывается в круглых скобках после названия функции, таков синтаксис Python. \n",
    "\n",
    "Например, мы можем вывести на экран значения переменных `x` или `y`, применив к ним функцию `print()`:"
   ]
  },
  {
   "cell_type": "code",
   "execution_count": 3,
   "metadata": {},
   "outputs": [
    {
     "name": "stdout",
     "output_type": "stream",
     "text": [
      "4\n"
     ]
    }
   ],
   "source": [
    "print(x)"
   ]
  },
  {
   "cell_type": "code",
   "execution_count": 4,
   "metadata": {},
   "outputs": [
    {
     "name": "stdout",
     "output_type": "stream",
     "text": [
      "3\n"
     ]
    }
   ],
   "source": [
    "print(y)"
   ]
  },
  {
   "cell_type": "markdown",
   "metadata": {},
   "source": [
    "Или округлить число 5.67 до целых с помощью функции `round()`:"
   ]
  },
  {
   "cell_type": "code",
   "execution_count": 5,
   "metadata": {},
   "outputs": [
    {
     "data": {
      "text/plain": [
       "6"
      ]
     },
     "execution_count": 5,
     "metadata": {},
     "output_type": "execute_result"
    }
   ],
   "source": [
    "round(5.67)"
   ]
  },
  {
   "cell_type": "markdown",
   "metadata": {},
   "source": [
    "Аргументов у функции может быть несколько. Тогда они перечисляются в круглых скобках через запятую. Так, мы можем вывести на экран сразу несколько элементов:"
   ]
  },
  {
   "cell_type": "code",
   "execution_count": 6,
   "metadata": {},
   "outputs": [
    {
     "name": "stdout",
     "output_type": "stream",
     "text": [
      "4 3\n"
     ]
    }
   ],
   "source": [
    "print(x, y)"
   ]
  },
  {
   "cell_type": "code",
   "execution_count": 7,
   "metadata": {},
   "outputs": [
    {
     "name": "stdout",
     "output_type": "stream",
     "text": [
      "S O S\n"
     ]
    }
   ],
   "source": [
    "print(\"S\", \"O\", \"S\")"
   ]
  },
  {
   "cell_type": "markdown",
   "metadata": {},
   "source": [
    "Или округлить число 5.67 до первого знака после запятой:"
   ]
  },
  {
   "cell_type": "code",
   "execution_count": 8,
   "metadata": {},
   "outputs": [
    {
     "data": {
      "text/plain": [
       "5.7"
      ]
     },
     "execution_count": 8,
     "metadata": {},
     "output_type": "execute_result"
    }
   ],
   "source": [
    "round(5.67, 1)"
   ]
  },
  {
   "cell_type": "markdown",
   "metadata": {},
   "source": [
    "Функции `print()` и `round()`, которые мы рассмотрели – базовые. Это означает, что для их использования не нужно подгружать специальные наборы функций, можно просто написать их названия и запускать код. Но часто этих функций не хватает для полноценной работы, особенно если речь идет о работе с данными. Поэтому возникает необходимость в **библиотеках** – наборах функций, которые служат для решения конкретной группы задач. В ближайшее время мы будем работать с двумя библиотеками:\n",
    "\n",
    "* библиотека `numpy` (от *Numeric Python*) для эффективной работы с числовыми массивами;\n",
    "* библиотека `pandas` для загрузки и обработки данных в табличном виде.\n",
    "\n",
    "Чтобы использовать функции из определенной библиотеки, ее сначала нужно импортировать. Иначе Python не поймет, откуда ему эту команду брать, и выдаст ошибку. Например, далее для создания числового массива нам понадобится функция `array()`, которая хранится внутри библиотеки `numpy`. Попробуем вызвать эту функцию просто так:"
   ]
  },
  {
   "cell_type": "code",
   "execution_count": 9,
   "metadata": {},
   "outputs": [
    {
     "ename": "NameError",
     "evalue": "name 'array' is not defined",
     "output_type": "error",
     "traceback": [
      "\u001b[0;31m---------------------------------------------------------------------------\u001b[0m",
      "\u001b[0;31mNameError\u001b[0m                                 Traceback (most recent call last)",
      "\u001b[0;32m<ipython-input-9-cad72594f131>\u001b[0m in \u001b[0;36m<module>\u001b[0;34m\u001b[0m\n\u001b[0;32m----> 1\u001b[0;31m \u001b[0marray\u001b[0m\u001b[0;34m(\u001b[0m\u001b[0;34m)\u001b[0m\u001b[0;34m\u001b[0m\u001b[0;34m\u001b[0m\u001b[0m\n\u001b[0m",
      "\u001b[0;31mNameError\u001b[0m: name 'array' is not defined"
     ]
    }
   ],
   "source": [
    "array()"
   ]
  },
  {
   "cell_type": "markdown",
   "metadata": {},
   "source": [
    "Ошибка `NameError` – Python пишет, что `array` не определено. Такое возможно в двух случаях:\n",
    "\n",
    "* такой функции, действительно, нет, мы опечатались;\n",
    "* такая функция есть, но она спрятана в библиотеке.\n",
    "\n",
    "Наш случай – второй, поэтому давайте импортируем библиотеку `numpy` и перейдем к работе с числовым массивом! \n",
    "\n",
    "Но перед этим отметим еще один вариант возникновения `NameError` – когда объект еще не определен, а мы его пытаемся вызвать. Так, если мы попробуем вывести на экран значение переменной `age`, ничего не получится, в рамках этого файла мы его не создавали:"
   ]
  },
  {
   "cell_type": "code",
   "execution_count": 10,
   "metadata": {},
   "outputs": [
    {
     "ename": "NameError",
     "evalue": "name 'age' is not defined",
     "output_type": "error",
     "traceback": [
      "\u001b[0;31m---------------------------------------------------------------------------\u001b[0m",
      "\u001b[0;31mNameError\u001b[0m                                 Traceback (most recent call last)",
      "\u001b[0;32m<ipython-input-10-5f7a7c5b2c60>\u001b[0m in \u001b[0;36m<module>\u001b[0;34m\u001b[0m\n\u001b[0;32m----> 1\u001b[0;31m \u001b[0mprint\u001b[0m\u001b[0;34m(\u001b[0m\u001b[0mage\u001b[0m\u001b[0;34m)\u001b[0m\u001b[0;34m\u001b[0m\u001b[0;34m\u001b[0m\u001b[0m\n\u001b[0m",
      "\u001b[0;31mNameError\u001b[0m: name 'age' is not defined"
     ]
    }
   ],
   "source": [
    "print(age)"
   ]
  },
  {
   "cell_type": "markdown",
   "metadata": {},
   "source": [
    "И еще: Python чувствителен к регистру, название маленькими буквами и то же название большими буквами – это разные вещи. Так, получить значение `X` мы не сможем, Python знает только про `x`, который мы создавали ранее:"
   ]
  },
  {
   "cell_type": "code",
   "execution_count": 11,
   "metadata": {},
   "outputs": [
    {
     "name": "stdout",
     "output_type": "stream",
     "text": [
      "4\n"
     ]
    },
    {
     "ename": "NameError",
     "evalue": "name 'X' is not defined",
     "output_type": "error",
     "traceback": [
      "\u001b[0;31m---------------------------------------------------------------------------\u001b[0m",
      "\u001b[0;31mNameError\u001b[0m                                 Traceback (most recent call last)",
      "\u001b[0;32m<ipython-input-11-d76734dbdfc1>\u001b[0m in \u001b[0;36m<module>\u001b[0;34m\u001b[0m\n\u001b[1;32m      1\u001b[0m \u001b[0mprint\u001b[0m\u001b[0;34m(\u001b[0m\u001b[0mx\u001b[0m\u001b[0;34m)\u001b[0m  \u001b[0;31m# ок\u001b[0m\u001b[0;34m\u001b[0m\u001b[0;34m\u001b[0m\u001b[0m\n\u001b[0;32m----> 2\u001b[0;31m \u001b[0mprint\u001b[0m\u001b[0;34m(\u001b[0m\u001b[0mX\u001b[0m\u001b[0;34m)\u001b[0m  \u001b[0;31m# нет такого\u001b[0m\u001b[0;34m\u001b[0m\u001b[0;34m\u001b[0m\u001b[0m\n\u001b[0m",
      "\u001b[0;31mNameError\u001b[0m: name 'X' is not defined"
     ]
    }
   ],
   "source": [
    "print(x)  # ок\n",
    "print(X)  # нет такого"
   ]
  },
  {
   "cell_type": "markdown",
   "metadata": {},
   "source": [
    "Все, пора переходить к массивам."
   ]
  },
  {
   "cell_type": "markdown",
   "metadata": {},
   "source": [
    "### Часть 2: работа с выборкой, сохраненной в массив"
   ]
  },
  {
   "cell_type": "markdown",
   "metadata": {},
   "source": [
    "В Python существует много различных структур данных: списки, кортежи, словари, массивы, датафреймы... У каждой структуры есть свои особенности, полезные для решения определенных практических задач. Для того, чтобы работать с выборками, состоящими из числовых значений, удобнее всего использовать **массивы**, которые создаются с помощью библиотеки `numpy` (название от *Numeric Python*). \n",
    "\n",
    "Импортируем библиотеку `numpy` с сокращенным названием `np`:"
   ]
  },
  {
   "cell_type": "code",
   "execution_count": 12,
   "metadata": {},
   "outputs": [],
   "source": [
    "import numpy as np"
   ]
  },
  {
   "cell_type": "markdown",
   "metadata": {},
   "source": [
    "Вообще для импорта этой библиотеки достаточно использовать выражение `import numpy`. Но здесь мы пошли немного дальше – название `numpy` считается достаточно длинным, поэтому мы его сократили до `np`. Зачем? Чтобы потом при вызове функций нам не пришлось таскать за собой слово `numpy`. Сравните: `numpy.array()` или `np.array()`. \n",
    "\n",
    "> Не совсем серьезное отступление. На самом деле, конструкция `import ... as ...` позволяет присваивать библиотекам любые названия из одного слова без пробелов. Например, можно написать `import numpy as pain`, и тогда дальше Python будет понимать, что в выражениях `pain.array()` мы вызываем `numpy`.\n",
    "\n",
    "Как мы уже выяснили, для создания массива нам понадобится функция `array()`. Создадим массив с пятью значениями заработной платы и сохраним его в переменную `salary`:"
   ]
  },
  {
   "cell_type": "code",
   "execution_count": 13,
   "metadata": {},
   "outputs": [],
   "source": [
    "salary = np.array([70, 80, 50, 90, 60])"
   ]
  },
  {
   "cell_type": "markdown",
   "metadata": {},
   "source": [
    "Разберемся, что тут к чему.\n",
    "    \n",
    "Функция `array()` будет работать только тогда, когда мы укажем, что она из библиотеки `numpy`, поэтому получаем выражение `np.array()`.\n",
    "\n",
    "Массив создается на основе списка значений, а для создания списка значения нужно перечислить в квадратных скобках через запятую. Поэтому `np.array([70, 80, 50, 90, 60])`, а не `np.array(70, 80, 50, 90, 60)`.\n",
    "\n",
    "Пробелы после запятых добавлены для удобства и лучшей читаемости, если где-то пропустим его, не проблема."
   ]
  },
  {
   "cell_type": "markdown",
   "metadata": {},
   "source": [
    "Внутри библиотеки `numpy` хранится много функций для вычисления различных характеристик массива, в частности, описательных статистик. Функции для описательных статистик имеют говорящие названия – названия статистик на английском языке:\n",
    "\n",
    "* функция `min()` вычисляет минимальное значение;\n",
    "* функция `max()` вычисляет максимальное значение;\n",
    "* функция `mean()` вычисляет среднее арифметическое;\n",
    "* функция `median()` вычисляет медиану;\n",
    "* функция `quantile()` вычисляет квантили разных уровней.\n",
    "\n",
    "Так как все эти функции входят в `numpy`, перед их названием всегда нужно будет указывать `np` (как в коде выше). Найдем минимальное значение в массиве:"
   ]
  },
  {
   "cell_type": "code",
   "execution_count": 14,
   "metadata": {},
   "outputs": [
    {
     "data": {
      "text/plain": [
       "50"
      ]
     },
     "execution_count": 14,
     "metadata": {},
     "output_type": "execute_result"
    }
   ],
   "source": [
    "np.min(salary)"
   ]
  },
  {
   "cell_type": "markdown",
   "metadata": {},
   "source": [
    "А теперь максимальное:"
   ]
  },
  {
   "cell_type": "code",
   "execution_count": 15,
   "metadata": {},
   "outputs": [
    {
     "data": {
      "text/plain": [
       "90"
      ]
     },
     "execution_count": 15,
     "metadata": {},
     "output_type": "execute_result"
    }
   ],
   "source": [
    "np.max(salary)"
   ]
  },
  {
   "cell_type": "markdown",
   "metadata": {},
   "source": [
    "А теперь среднее (среднее арифметическое):"
   ]
  },
  {
   "cell_type": "code",
   "execution_count": 16,
   "metadata": {},
   "outputs": [
    {
     "data": {
      "text/plain": [
       "70.0"
      ]
     },
     "execution_count": 16,
     "metadata": {},
     "output_type": "execute_result"
    }
   ],
   "source": [
    "np.mean(salary)"
   ]
  },
  {
   "cell_type": "markdown",
   "metadata": {},
   "source": [
    "И медиану:"
   ]
  },
  {
   "cell_type": "code",
   "execution_count": 17,
   "metadata": {},
   "outputs": [
    {
     "data": {
      "text/plain": [
       "70.0"
      ]
     },
     "execution_count": 17,
     "metadata": {},
     "output_type": "execute_result"
    }
   ],
   "source": [
    "np.median(salary)"
   ]
  },
  {
   "cell_type": "markdown",
   "metadata": {},
   "source": [
    "Так получилось, что среднее и медиана в нашем примере совпали. \n",
    "\n",
    "Для вычисления квантилей нам понадобится дополнительная информация – квантили какого уровня мы хотим получить. На лекции мы выяснили, что иногда полезно определять квартили: нижний квартиль – квантиль уровня 0.25, верхний квартиль – квантиль уровня 0.75. Воспользуемся этой информацией и укажем нужные уровни в функции `quantile()`. Посчитаем нижний квартиль:"
   ]
  },
  {
   "cell_type": "code",
   "execution_count": 18,
   "metadata": {},
   "outputs": [
    {
     "data": {
      "text/plain": [
       "60.0"
      ]
     },
     "execution_count": 18,
     "metadata": {},
     "output_type": "execute_result"
    }
   ],
   "source": [
    "np.quantile(salary, 0.25)"
   ]
  },
  {
   "cell_type": "markdown",
   "metadata": {},
   "source": [
    "Посчитаем верхний квартиль:"
   ]
  },
  {
   "cell_type": "code",
   "execution_count": 19,
   "metadata": {},
   "outputs": [
    {
     "data": {
      "text/plain": [
       "80.0"
      ]
     },
     "execution_count": 19,
     "metadata": {},
     "output_type": "execute_result"
    }
   ],
   "source": [
    "np.quantile(salary, 0.75)"
   ]
  },
  {
   "cell_type": "markdown",
   "metadata": {},
   "source": [
    "Давайте проинтерпретируем полученные результаты (у нас неприлично маленькая выборка, от 5 наблюдений проценты считать несерьезно, но пусть, возьмем грех на душу). У 50% респондентов заработная плата не превышает 70 тысяч (медиана). У 25% респондентов заработная плата не превышает 60 тысяч (нижний квартиль), у 75% заработная плата не превышает 80 тысяч (верхний квартиль). \n",
    "\n",
    "Квантиль может быть любого уровня от 0 до 1, можем для примера определить квантиль уровня 0.3 или 30-ый процентиль:"
   ]
  },
  {
   "cell_type": "code",
   "execution_count": 20,
   "metadata": {},
   "outputs": [
    {
     "data": {
      "text/plain": [
       "62.0"
      ]
     },
     "execution_count": 20,
     "metadata": {},
     "output_type": "execute_result"
    }
   ],
   "source": [
    "np.quantile(salary, 0.3) # у 30% людей зарплата не более 62 тысяч"
   ]
  },
  {
   "cell_type": "markdown",
   "metadata": {},
   "source": [
    "И, наконец, функция `quantile()` хороша тем, что умеет считать квантили разных уровней сразу. Уровни квантилей в таком случае можно записать в виде списка – перечня значений через запятую в квадратных скобках."
   ]
  },
  {
   "cell_type": "code",
   "execution_count": 21,
   "metadata": {},
   "outputs": [
    {
     "data": {
      "text/plain": [
       "array([60., 80.])"
      ]
     },
     "execution_count": 21,
     "metadata": {},
     "output_type": "execute_result"
    }
   ],
   "source": [
    "np.quantile(salary, [0.25, 0.75]) # оба квартиля сразу"
   ]
  }
 ],
 "metadata": {
  "kernelspec": {
   "display_name": "Python 3",
   "language": "python",
   "name": "python3"
  },
  "language_info": {
   "codemirror_mode": {
    "name": "ipython",
    "version": 3
   },
   "file_extension": ".py",
   "mimetype": "text/x-python",
   "name": "python",
   "nbconvert_exporter": "python",
   "pygments_lexer": "ipython3",
   "version": "3.7.4"
  }
 },
 "nbformat": 4,
 "nbformat_minor": 2
}
