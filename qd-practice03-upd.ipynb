{
 "cells": [
  {
   "cell_type": "markdown",
   "metadata": {},
   "source": [
    "# Основы работы с количественными данными\n",
    "\n",
    "*Алла Тамбовцева*\n",
    "\n",
    "## Практикум 3. Группировка, агрегирование и визуализация с `pandas`\n"
   ]
  },
  {
   "cell_type": "markdown",
   "metadata": {},
   "source": [
    "В этом практикуме мы будем работать со значениями индекса восприятия коррупции и индекса политических прав и гражданских свобод. В файле `CPI_FH.xlsx` сохранены данные для всех стран за 2019 год. \n",
    "\n",
    "Переменные в файле: \n",
    "\n",
    "* `Country`: название страны;\n",
    "* `ISO3`: сокращенное название страны (по стандартам ISO);\n",
    "* `Region`: регион;\n",
    "* `CPI`: индекс восприятия коррупции (больше значения – меньше коррупции);\n",
    "* `FH`: индекс политических прав и гражданских свобод от Freedom House (больше значения – больше свобод);\n",
    "* `FH status`: статус страны на основе индекса от Freedom House (Free, Partly Free, Not Free).\n",
    "\n",
    "Для работы с данными, сохраненными в формате CSV или Excel, нам понадобится библиотека `pandas`. Импортируем её с сокращённым названием `pd`:"
   ]
  },
  {
   "cell_type": "code",
   "execution_count": 1,
   "metadata": {},
   "outputs": [],
   "source": [
    "import pandas as pd"
   ]
  },
  {
   "cell_type": "markdown",
   "metadata": {},
   "source": [
    "Загрузим сам файл с данными в Google Colab или Jupyter Notebook. \n",
    "\n",
    "**Пояснение для Google Colab.** Загрузить файл с данными в облачное хранилище можно через кнопку *Files* (значок папки слева от рабочей области с ячейками), при нажатии на которую появляется возможность выбрать файл с компьютера (значок стрелки). После добавления файла его можно выбрать, кликнуть на три точки справа от названия, скопировать путь через *Copy path* и вставить его в функцию `read_excel()` для чтения файла Excel. Например:\n",
    "\n",
    "    df = pd.read_excel(\"/content/CPI_FH.xlsx\")\n",
    "    \n",
    "**Пояснение для Jupyter Notebook.** Удобно, если файл с данными при работе лежит в той же папке, что и текущий ipynb-файл, в котором мы запускаем код, так не придется полностью прописывать к нему путь, достаточно одного названия с расширением. Загрузить файл с данными в Jupyter можно через *Upload* на *Home Page* (по аналогии с загрузкой ipynb-файлов). После добавления файла его название с расширением можно вставить в функцию `read_excel()` для чтения файла Excel. Например:\n",
    "\n",
    "    df = read_excel(\"CPI_FH.xlsx\")"
   ]
  },
  {
   "cell_type": "markdown",
   "metadata": {},
   "source": [
    "Загрузим данные из файла `flats.csv` и сохраним их в таблицу – **датафрейм** `df`. Но сначала загрузим файл с данными в Google Colab."
   ]
  },
  {
   "cell_type": "code",
   "execution_count": 2,
   "metadata": {},
   "outputs": [],
   "source": [
    "df = pd.read_excel(\"/content/CPI_FH.xlsx\")"
   ]
  },
  {
   "cell_type": "markdown",
   "metadata": {},
   "source": [
    "Посмотрим на датафрейм:"
   ]
  },
  {
   "cell_type": "code",
   "execution_count": 3,
   "metadata": {},
   "outputs": [
    {
     "data": {
      "text/html": [
       "<div>\n",
       "<style scoped>\n",
       "    .dataframe tbody tr th:only-of-type {\n",
       "        vertical-align: middle;\n",
       "    }\n",
       "\n",
       "    .dataframe tbody tr th {\n",
       "        vertical-align: top;\n",
       "    }\n",
       "\n",
       "    .dataframe thead th {\n",
       "        text-align: right;\n",
       "    }\n",
       "</style>\n",
       "<table border=\"1\" class=\"dataframe\">\n",
       "  <thead>\n",
       "    <tr style=\"text-align: right;\">\n",
       "      <th></th>\n",
       "      <th>Country</th>\n",
       "      <th>ISO3</th>\n",
       "      <th>Region</th>\n",
       "      <th>CPI</th>\n",
       "      <th>FH</th>\n",
       "      <th>FH status</th>\n",
       "    </tr>\n",
       "  </thead>\n",
       "  <tbody>\n",
       "    <tr>\n",
       "      <th>0</th>\n",
       "      <td>Denmark</td>\n",
       "      <td>DNK</td>\n",
       "      <td>WE/EU</td>\n",
       "      <td>87</td>\n",
       "      <td>97</td>\n",
       "      <td>Free</td>\n",
       "    </tr>\n",
       "    <tr>\n",
       "      <th>1</th>\n",
       "      <td>New Zealand</td>\n",
       "      <td>NZL</td>\n",
       "      <td>AP</td>\n",
       "      <td>87</td>\n",
       "      <td>97</td>\n",
       "      <td>Free</td>\n",
       "    </tr>\n",
       "    <tr>\n",
       "      <th>2</th>\n",
       "      <td>Finland</td>\n",
       "      <td>FIN</td>\n",
       "      <td>WE/EU</td>\n",
       "      <td>86</td>\n",
       "      <td>100</td>\n",
       "      <td>Free</td>\n",
       "    </tr>\n",
       "    <tr>\n",
       "      <th>3</th>\n",
       "      <td>Singapore</td>\n",
       "      <td>SGP</td>\n",
       "      <td>AP</td>\n",
       "      <td>85</td>\n",
       "      <td>50</td>\n",
       "      <td>Partly Free</td>\n",
       "    </tr>\n",
       "    <tr>\n",
       "      <th>4</th>\n",
       "      <td>Sweden</td>\n",
       "      <td>SWE</td>\n",
       "      <td>WE/EU</td>\n",
       "      <td>85</td>\n",
       "      <td>100</td>\n",
       "      <td>Free</td>\n",
       "    </tr>\n",
       "    <tr>\n",
       "      <th>...</th>\n",
       "      <td>...</td>\n",
       "      <td>...</td>\n",
       "      <td>...</td>\n",
       "      <td>...</td>\n",
       "      <td>...</td>\n",
       "      <td>...</td>\n",
       "    </tr>\n",
       "    <tr>\n",
       "      <th>173</th>\n",
       "      <td>Venezuela</td>\n",
       "      <td>VEN</td>\n",
       "      <td>AME</td>\n",
       "      <td>16</td>\n",
       "      <td>16</td>\n",
       "      <td>Not Free</td>\n",
       "    </tr>\n",
       "    <tr>\n",
       "      <th>174</th>\n",
       "      <td>Yemen</td>\n",
       "      <td>YEM</td>\n",
       "      <td>MENA</td>\n",
       "      <td>15</td>\n",
       "      <td>11</td>\n",
       "      <td>Not Free</td>\n",
       "    </tr>\n",
       "    <tr>\n",
       "      <th>175</th>\n",
       "      <td>Syria</td>\n",
       "      <td>SYR</td>\n",
       "      <td>MENA</td>\n",
       "      <td>13</td>\n",
       "      <td>0</td>\n",
       "      <td>Not Free</td>\n",
       "    </tr>\n",
       "    <tr>\n",
       "      <th>176</th>\n",
       "      <td>South Sudan</td>\n",
       "      <td>SSD</td>\n",
       "      <td>SSA</td>\n",
       "      <td>12</td>\n",
       "      <td>-2</td>\n",
       "      <td>Not Free</td>\n",
       "    </tr>\n",
       "    <tr>\n",
       "      <th>177</th>\n",
       "      <td>Somalia</td>\n",
       "      <td>SOM</td>\n",
       "      <td>SSA</td>\n",
       "      <td>9</td>\n",
       "      <td>7</td>\n",
       "      <td>Not Free</td>\n",
       "    </tr>\n",
       "  </tbody>\n",
       "</table>\n",
       "<p>178 rows × 6 columns</p>\n",
       "</div>"
      ],
      "text/plain": [
       "         Country ISO3 Region  CPI   FH    FH status\n",
       "0        Denmark  DNK  WE/EU   87   97         Free\n",
       "1    New Zealand  NZL     AP   87   97         Free\n",
       "2        Finland  FIN  WE/EU   86  100         Free\n",
       "3      Singapore  SGP     AP   85   50  Partly Free\n",
       "4         Sweden  SWE  WE/EU   85  100         Free\n",
       "..           ...  ...    ...  ...  ...          ...\n",
       "173    Venezuela  VEN    AME   16   16     Not Free\n",
       "174        Yemen  YEM   MENA   15   11     Not Free\n",
       "175        Syria  SYR   MENA   13    0     Not Free\n",
       "176  South Sudan  SSD    SSA   12   -2     Not Free\n",
       "177      Somalia  SOM    SSA    9    7     Not Free\n",
       "\n",
       "[178 rows x 6 columns]"
      ]
     },
     "execution_count": 3,
     "metadata": {},
     "output_type": "execute_result"
    }
   ],
   "source": [
    "df"
   ]
  },
  {
   "cell_type": "markdown",
   "metadata": {},
   "source": [
    "## Часть 1: группировка и агрегирование\n",
    "\n",
    "### Задание 1\n",
    "\n",
    "Выведите описательные статистики для всех числовых столбцов в таблице."
   ]
  },
  {
   "cell_type": "code",
   "execution_count": 4,
   "metadata": {},
   "outputs": [
    {
     "data": {
      "text/html": [
       "<div>\n",
       "<style scoped>\n",
       "    .dataframe tbody tr th:only-of-type {\n",
       "        vertical-align: middle;\n",
       "    }\n",
       "\n",
       "    .dataframe tbody tr th {\n",
       "        vertical-align: top;\n",
       "    }\n",
       "\n",
       "    .dataframe thead th {\n",
       "        text-align: right;\n",
       "    }\n",
       "</style>\n",
       "<table border=\"1\" class=\"dataframe\">\n",
       "  <thead>\n",
       "    <tr style=\"text-align: right;\">\n",
       "      <th></th>\n",
       "      <th>CPI</th>\n",
       "      <th>FH</th>\n",
       "    </tr>\n",
       "  </thead>\n",
       "  <tbody>\n",
       "    <tr>\n",
       "      <th>count</th>\n",
       "      <td>178.000000</td>\n",
       "      <td>178.000000</td>\n",
       "    </tr>\n",
       "    <tr>\n",
       "      <th>mean</th>\n",
       "      <td>43.011236</td>\n",
       "      <td>56.162921</td>\n",
       "    </tr>\n",
       "    <tr>\n",
       "      <th>std</th>\n",
       "      <td>19.008469</td>\n",
       "      <td>29.894946</td>\n",
       "    </tr>\n",
       "    <tr>\n",
       "      <th>min</th>\n",
       "      <td>9.000000</td>\n",
       "      <td>-2.000000</td>\n",
       "    </tr>\n",
       "    <tr>\n",
       "      <th>25%</th>\n",
       "      <td>29.000000</td>\n",
       "      <td>31.000000</td>\n",
       "    </tr>\n",
       "    <tr>\n",
       "      <th>50%</th>\n",
       "      <td>39.000000</td>\n",
       "      <td>60.500000</td>\n",
       "    </tr>\n",
       "    <tr>\n",
       "      <th>75%</th>\n",
       "      <td>56.000000</td>\n",
       "      <td>84.000000</td>\n",
       "    </tr>\n",
       "    <tr>\n",
       "      <th>max</th>\n",
       "      <td>87.000000</td>\n",
       "      <td>100.000000</td>\n",
       "    </tr>\n",
       "  </tbody>\n",
       "</table>\n",
       "</div>"
      ],
      "text/plain": [
       "              CPI          FH\n",
       "count  178.000000  178.000000\n",
       "mean    43.011236   56.162921\n",
       "std     19.008469   29.894946\n",
       "min      9.000000   -2.000000\n",
       "25%     29.000000   31.000000\n",
       "50%     39.000000   60.500000\n",
       "75%     56.000000   84.000000\n",
       "max     87.000000  100.000000"
      ]
     },
     "execution_count": 4,
     "metadata": {},
     "output_type": "execute_result"
    }
   ],
   "source": [
    "df.describe()"
   ]
  },
  {
   "cell_type": "markdown",
   "metadata": {},
   "source": [
    ">**Пояснения к коду:** метод `.describe()` по умолчанию и так выдает описательные статистики только для числовых столбцов, здесь это уточнение нужно для того, чтобы мы не удивлялись, куда пропали остальные столбцы."
   ]
  },
  {
   "cell_type": "markdown",
   "metadata": {},
   "source": [
    "### Задание 2\n",
    "\n",
    "Выведите описательные статистики для всех текстовых (тип `object`) столбцов в таблице.\n",
    "\n",
    "**Подсказка:** допишите опцию `include = \"object\"` в метод, который вы использовали в предыдущем задании."
   ]
  },
  {
   "cell_type": "code",
   "execution_count": 5,
   "metadata": {},
   "outputs": [
    {
     "data": {
      "text/html": [
       "<div>\n",
       "<style scoped>\n",
       "    .dataframe tbody tr th:only-of-type {\n",
       "        vertical-align: middle;\n",
       "    }\n",
       "\n",
       "    .dataframe tbody tr th {\n",
       "        vertical-align: top;\n",
       "    }\n",
       "\n",
       "    .dataframe thead th {\n",
       "        text-align: right;\n",
       "    }\n",
       "</style>\n",
       "<table border=\"1\" class=\"dataframe\">\n",
       "  <thead>\n",
       "    <tr style=\"text-align: right;\">\n",
       "      <th></th>\n",
       "      <th>Country</th>\n",
       "      <th>ISO3</th>\n",
       "      <th>Region</th>\n",
       "      <th>FH status</th>\n",
       "    </tr>\n",
       "  </thead>\n",
       "  <tbody>\n",
       "    <tr>\n",
       "      <th>count</th>\n",
       "      <td>178</td>\n",
       "      <td>178</td>\n",
       "      <td>178</td>\n",
       "      <td>178</td>\n",
       "    </tr>\n",
       "    <tr>\n",
       "      <th>unique</th>\n",
       "      <td>178</td>\n",
       "      <td>178</td>\n",
       "      <td>6</td>\n",
       "      <td>3</td>\n",
       "    </tr>\n",
       "    <tr>\n",
       "      <th>top</th>\n",
       "      <td>Denmark</td>\n",
       "      <td>DNK</td>\n",
       "      <td>SSA</td>\n",
       "      <td>Free</td>\n",
       "    </tr>\n",
       "    <tr>\n",
       "      <th>freq</th>\n",
       "      <td>1</td>\n",
       "      <td>1</td>\n",
       "      <td>49</td>\n",
       "      <td>66</td>\n",
       "    </tr>\n",
       "  </tbody>\n",
       "</table>\n",
       "</div>"
      ],
      "text/plain": [
       "        Country ISO3 Region FH status\n",
       "count       178  178    178       178\n",
       "unique      178  178      6         3\n",
       "top     Denmark  DNK    SSA      Free\n",
       "freq          1    1     49        66"
      ]
     },
     "execution_count": 5,
     "metadata": {},
     "output_type": "execute_result"
    }
   ],
   "source": [
    "df.describe(include = \"object\")"
   ]
  },
  {
   "cell_type": "markdown",
   "metadata": {},
   "source": [
    "**Интерпретация:** значения в `count` – число заполненных ячеек в каждом столбце, в `unique` –  число уникальных значений в каждом столбце. Значения в `top` – мода, самое частое значение в каждом столбце, а `freq` – частота, соответствующее моде. Так, здесь есть три уникальных значения статуса страны (мы уже видели, это *Free*, *Partly Free*, *Not Free*), самое частое из них – *Free*. То есть, больше всего свободных стран, и таких стран 66 из 178. \n",
    "\n",
    "*Примечание:* в случае, если все значения уникальны, как в случае с названиями страны, в качестве моды записывается самое первое значение в столбце."
   ]
  },
  {
   "cell_type": "markdown",
   "metadata": {},
   "source": [
    "### Задание 3\n",
    "\n",
    "Выведите таблицу частот для столбца `Region`. Выведите таблицу частот для столбца `FH status`.\n",
    "\n",
    "**Подсказка:** примените метод `.value_counts()` к каждому столбцу."
   ]
  },
  {
   "cell_type": "code",
   "execution_count": 6,
   "metadata": {},
   "outputs": [
    {
     "data": {
      "text/plain": [
       "SSA      49\n",
       "WE/EU    31\n",
       "AP       31\n",
       "AME      30\n",
       "ECA      19\n",
       "MENA     18\n",
       "Name: Region, dtype: int64"
      ]
     },
     "execution_count": 6,
     "metadata": {},
     "output_type": "execute_result"
    }
   ],
   "source": [
    "df[\"Region\"].value_counts()"
   ]
  },
  {
   "cell_type": "markdown",
   "metadata": {},
   "source": [
    "Расшифровки регионов: \n",
    "\n",
    "* SSA – Sub-Saharian Africa, \n",
    "* WE/EU – West Europe/European Union, \n",
    "* AP – Asia Pacific, \n",
    "* AME – America, \n",
    "* ECA – Eurasia and Central Asia, \n",
    "* MENA – Middle East and North Africa."
   ]
  },
  {
   "cell_type": "code",
   "execution_count": 8,
   "metadata": {},
   "outputs": [
    {
     "data": {
      "text/plain": [
       "Free           66\n",
       "Partly Free    63\n",
       "Not Free       49\n",
       "Name: FH status, dtype: int64"
      ]
     },
     "execution_count": 8,
     "metadata": {},
     "output_type": "execute_result"
    }
   ],
   "source": [
    "df[\"FH status\"].value_counts()"
   ]
  },
  {
   "cell_type": "markdown",
   "metadata": {},
   "source": [
    "### Задание 4\n",
    "\n",
    "Сгруппируйте страны в таблице по региону и выведите для каждого региона средние значения числовых показателей.\n",
    "\n",
    "Общая схема группировки и агрегирования такая:\n",
    "\n",
    "    df.groupby(NAME).agg(FUNCTION),\n",
    "\n",
    "где вместо `NAME` мы подставляем название столбца, по которому группируем (в кавычках), а вместо `FUNCTION` – название функции, которую нужно применить к каждой группе (тоже в кавычках)."
   ]
  },
  {
   "cell_type": "code",
   "execution_count": 9,
   "metadata": {},
   "outputs": [
    {
     "data": {
      "text/html": [
       "<div>\n",
       "<style scoped>\n",
       "    .dataframe tbody tr th:only-of-type {\n",
       "        vertical-align: middle;\n",
       "    }\n",
       "\n",
       "    .dataframe tbody tr th {\n",
       "        vertical-align: top;\n",
       "    }\n",
       "\n",
       "    .dataframe thead th {\n",
       "        text-align: right;\n",
       "    }\n",
       "</style>\n",
       "<table border=\"1\" class=\"dataframe\">\n",
       "  <thead>\n",
       "    <tr style=\"text-align: right;\">\n",
       "      <th></th>\n",
       "      <th>CPI</th>\n",
       "      <th>FH</th>\n",
       "    </tr>\n",
       "    <tr>\n",
       "      <th>Region</th>\n",
       "      <th></th>\n",
       "      <th></th>\n",
       "    </tr>\n",
       "  </thead>\n",
       "  <tbody>\n",
       "    <tr>\n",
       "      <th>AME</th>\n",
       "      <td>42.466667</td>\n",
       "      <td>70.200000</td>\n",
       "    </tr>\n",
       "    <tr>\n",
       "      <th>AP</th>\n",
       "      <td>44.870968</td>\n",
       "      <td>53.774194</td>\n",
       "    </tr>\n",
       "    <tr>\n",
       "      <th>ECA</th>\n",
       "      <td>34.789474</td>\n",
       "      <td>40.315789</td>\n",
       "    </tr>\n",
       "    <tr>\n",
       "      <th>MENA</th>\n",
       "      <td>39.000000</td>\n",
       "      <td>28.111111</td>\n",
       "    </tr>\n",
       "    <tr>\n",
       "      <th>SSA</th>\n",
       "      <td>32.244898</td>\n",
       "      <td>42.979592</td>\n",
       "    </tr>\n",
       "    <tr>\n",
       "      <th>WE/EU</th>\n",
       "      <td>66.064516</td>\n",
       "      <td>91.806452</td>\n",
       "    </tr>\n",
       "  </tbody>\n",
       "</table>\n",
       "</div>"
      ],
      "text/plain": [
       "              CPI         FH\n",
       "Region                      \n",
       "AME     42.466667  70.200000\n",
       "AP      44.870968  53.774194\n",
       "ECA     34.789474  40.315789\n",
       "MENA    39.000000  28.111111\n",
       "SSA     32.244898  42.979592\n",
       "WE/EU   66.064516  91.806452"
      ]
     },
     "execution_count": 9,
     "metadata": {},
     "output_type": "execute_result"
    }
   ],
   "source": [
    "df.groupby(\"Region\").agg(\"mean\")"
   ]
  },
  {
   "cell_type": "markdown",
   "metadata": {},
   "source": [
    "### Задание 5\n",
    "\n",
    "Сгруппируйте страны в таблице по региону и выведите для каждого региона средние значения числовых показателей и их стандартные отклонения.\n",
    "\n",
    "Если мы хотим сразу несколько статистик, общая схема группировки и агрегирования такая:\n",
    "\n",
    "    df.groupby(NAME).agg([FUNCTION1, FUNCTION2]),\n",
    "\n",
    "где вместо `NAME` мы подставляем название столбца, по которому группируем (в кавычках), а внутри `.agg()` в квадратных скобках через запятую перечисляем названия  функций, которые нужно применить к каждой группе (каждое название в кавычках)."
   ]
  },
  {
   "cell_type": "code",
   "execution_count": 10,
   "metadata": {},
   "outputs": [
    {
     "data": {
      "text/html": [
       "<div>\n",
       "<style scoped>\n",
       "    .dataframe tbody tr th:only-of-type {\n",
       "        vertical-align: middle;\n",
       "    }\n",
       "\n",
       "    .dataframe tbody tr th {\n",
       "        vertical-align: top;\n",
       "    }\n",
       "\n",
       "    .dataframe thead tr th {\n",
       "        text-align: left;\n",
       "    }\n",
       "\n",
       "    .dataframe thead tr:last-of-type th {\n",
       "        text-align: right;\n",
       "    }\n",
       "</style>\n",
       "<table border=\"1\" class=\"dataframe\">\n",
       "  <thead>\n",
       "    <tr>\n",
       "      <th></th>\n",
       "      <th colspan=\"2\" halign=\"left\">CPI</th>\n",
       "      <th colspan=\"2\" halign=\"left\">FH</th>\n",
       "    </tr>\n",
       "    <tr>\n",
       "      <th></th>\n",
       "      <th>mean</th>\n",
       "      <th>std</th>\n",
       "      <th>mean</th>\n",
       "      <th>std</th>\n",
       "    </tr>\n",
       "    <tr>\n",
       "      <th>Region</th>\n",
       "      <th></th>\n",
       "      <th></th>\n",
       "      <th></th>\n",
       "      <th></th>\n",
       "    </tr>\n",
       "  </thead>\n",
       "  <tbody>\n",
       "    <tr>\n",
       "      <th>AME</th>\n",
       "      <td>42.466667</td>\n",
       "      <td>16.519024</td>\n",
       "      <td>70.200000</td>\n",
       "      <td>22.795039</td>\n",
       "    </tr>\n",
       "    <tr>\n",
       "      <th>AP</th>\n",
       "      <td>44.870968</td>\n",
       "      <td>20.029548</td>\n",
       "      <td>53.774194</td>\n",
       "      <td>27.181746</td>\n",
       "    </tr>\n",
       "    <tr>\n",
       "      <th>ECA</th>\n",
       "      <td>34.789474</td>\n",
       "      <td>8.541266</td>\n",
       "      <td>40.315789</td>\n",
       "      <td>23.259532</td>\n",
       "    </tr>\n",
       "    <tr>\n",
       "      <th>MENA</th>\n",
       "      <td>39.000000</td>\n",
       "      <td>16.883685</td>\n",
       "      <td>28.111111</td>\n",
       "      <td>20.413055</td>\n",
       "    </tr>\n",
       "    <tr>\n",
       "      <th>SSA</th>\n",
       "      <td>32.244898</td>\n",
       "      <td>12.648338</td>\n",
       "      <td>42.979592</td>\n",
       "      <td>24.968722</td>\n",
       "    </tr>\n",
       "    <tr>\n",
       "      <th>WE/EU</th>\n",
       "      <td>66.064516</td>\n",
       "      <td>14.516509</td>\n",
       "      <td>91.806452</td>\n",
       "      <td>6.534112</td>\n",
       "    </tr>\n",
       "  </tbody>\n",
       "</table>\n",
       "</div>"
      ],
      "text/plain": [
       "              CPI                    FH           \n",
       "             mean        std       mean        std\n",
       "Region                                            \n",
       "AME     42.466667  16.519024  70.200000  22.795039\n",
       "AP      44.870968  20.029548  53.774194  27.181746\n",
       "ECA     34.789474   8.541266  40.315789  23.259532\n",
       "MENA    39.000000  16.883685  28.111111  20.413055\n",
       "SSA     32.244898  12.648338  42.979592  24.968722\n",
       "WE/EU   66.064516  14.516509  91.806452   6.534112"
      ]
     },
     "execution_count": 10,
     "metadata": {},
     "output_type": "execute_result"
    }
   ],
   "source": [
    "df.groupby(\"Region\").agg([\"mean\", \"std\"])"
   ]
  },
  {
   "cell_type": "markdown",
   "metadata": {},
   "source": [
    "## Часть 2: визуализация по группам"
   ]
  },
  {
   "cell_type": "markdown",
   "metadata": {},
   "source": [
    "Построим гистограмму для индекса Freedom House (столбец `FH`) и сделаем её лаймово-зелёной:"
   ]
  },
  {
   "cell_type": "code",
   "execution_count": 12,
   "metadata": {},
   "outputs": [
    {
     "data": {
      "text/plain": [
       "array([[<matplotlib.axes._subplots.AxesSubplot object at 0x11dd60610>]],\n",
       "      dtype=object)"
      ]
     },
     "execution_count": 12,
     "metadata": {},
     "output_type": "execute_result"
    },
    {
     "data": {
      "image/png": "[encoded data removed]",
      "text/plain": [
       "<Figure size 432x288 with 1 Axes>"
      ]
     },
     "metadata": {
      "needs_background": "light"
     },
     "output_type": "display_data"
    }
   ],
   "source": [
    "df.hist(\"FH\", color = \"limegreen\", \n",
    "              edgecolor = \"white\")"
   ]
  },
  {
   "cell_type": "markdown",
   "metadata": {},
   "source": [
    "Теперь построим гистограмму по группам – одна гистограмма для каждого региона. Для этого добавим аргумент `by` и впишем в него столбец, который отвечает за регион: "
   ]
  },
  {
   "cell_type": "code",
   "execution_count": 13,
   "metadata": {},
   "outputs": [
    {
     "data": {
      "text/plain": [
       "array([[<matplotlib.axes._subplots.AxesSubplot object at 0x11dc610d0>,\n",
       "        <matplotlib.axes._subplots.AxesSubplot object at 0x11df89690>],\n",
       "       [<matplotlib.axes._subplots.AxesSubplot object at 0x11e097e50>,\n",
       "        <matplotlib.axes._subplots.AxesSubplot object at 0x11e0d8690>],\n",
       "       [<matplotlib.axes._subplots.AxesSubplot object at 0x11e10ce90>,\n",
       "        <matplotlib.axes._subplots.AxesSubplot object at 0x11e14e6d0>]],\n",
       "      dtype=object)"
      ]
     },
     "execution_count": 13,
     "metadata": {},
     "output_type": "execute_result"
    },
    {
     "data": {
      "image/png": "[encoded data removed]",
      "text/plain": [
       "<Figure size 432x288 with 6 Axes>"
      ]
     },
     "metadata": {
      "needs_background": "light"
     },
     "output_type": "display_data"
    }
   ],
   "source": [
    "df.hist(\"FH\", by = \"Region\", \n",
    "              color = \"limegreen\", \n",
    "              edgecolor = \"white\")"
   ]
  },
  {
   "cell_type": "markdown",
   "metadata": {},
   "source": [
    "Всё здорово, но графики маленькие! Добавим опцию `figsize` для фиксирования размера картинок, здесь это 10 на 10 дюймов:"
   ]
  },
  {
   "cell_type": "code",
   "execution_count": 14,
   "metadata": {},
   "outputs": [
    {
     "data": {
      "text/plain": [
       "array([[<matplotlib.axes._subplots.AxesSubplot object at 0x11dfeba10>,\n",
       "        <matplotlib.axes._subplots.AxesSubplot object at 0x11e37ce90>],\n",
       "       [<matplotlib.axes._subplots.AxesSubplot object at 0x11e2f1b50>,\n",
       "        <matplotlib.axes._subplots.AxesSubplot object at 0x11e40eed0>],\n",
       "       [<matplotlib.axes._subplots.AxesSubplot object at 0x11e443b90>,\n",
       "        <matplotlib.axes._subplots.AxesSubplot object at 0x11e483f10>]],\n",
       "      dtype=object)"
      ]
     },
     "execution_count": 14,
     "metadata": {},
     "output_type": "execute_result"
    },
    {
     "data": {
      "image/png": "[encoded data removed]",
      "text/plain": [
       "<Figure size 720x720 with 6 Axes>"
      ]
     },
     "metadata": {
      "needs_background": "light"
     },
     "output_type": "display_data"
    }
   ],
   "source": [
    "df.hist(\"FH\", by = \"Region\", \n",
    "              color = \"limegreen\", \n",
    "              edgecolor = \"white\", figsize = (10, 10))"
   ]
  },
  {
   "cell_type": "markdown",
   "metadata": {},
   "source": [
    "Ура! Теперь все графики вменяемого размера."
   ]
  },
  {
   "cell_type": "markdown",
   "metadata": {},
   "source": [
    "Попробуем сделать более сложную группировку – сгруппируем данные по региону и статусу страны сразу: "
   ]
  },
  {
   "cell_type": "code",
   "execution_count": 15,
   "metadata": {},
   "outputs": [
    {
     "data": {
      "text/plain": [
       "array([[<matplotlib.axes._subplots.AxesSubplot object at 0x11e1c1cd0>,\n",
       "        <matplotlib.axes._subplots.AxesSubplot object at 0x11e858850>,\n",
       "        <matplotlib.axes._subplots.AxesSubplot object at 0x11ea0ac10>,\n",
       "        <matplotlib.axes._subplots.AxesSubplot object at 0x11ea418d0>],\n",
       "       [<matplotlib.axes._subplots.AxesSubplot object at 0x11ea81c50>,\n",
       "        <matplotlib.axes._subplots.AxesSubplot object at 0x11eab8910>,\n",
       "        <matplotlib.axes._subplots.AxesSubplot object at 0x11eaf5d90>,\n",
       "        <matplotlib.axes._subplots.AxesSubplot object at 0x11eb2e950>],\n",
       "       [<matplotlib.axes._subplots.AxesSubplot object at 0x11eb374d0>,\n",
       "        <matplotlib.axes._subplots.AxesSubplot object at 0x11eb6ce50>,\n",
       "        <matplotlib.axes._subplots.AxesSubplot object at 0x11ebe3d10>,\n",
       "        <matplotlib.axes._subplots.AxesSubplot object at 0x11ec1a9d0>],\n",
       "       [<matplotlib.axes._subplots.AxesSubplot object at 0x11ec5bd50>,\n",
       "        <matplotlib.axes._subplots.AxesSubplot object at 0x11ec91a10>,\n",
       "        <matplotlib.axes._subplots.AxesSubplot object at 0x11ecd2d90>,\n",
       "        <matplotlib.axes._subplots.AxesSubplot object at 0x11ed07a50>]],\n",
       "      dtype=object)"
      ]
     },
     "execution_count": 15,
     "metadata": {},
     "output_type": "execute_result"
    },
    {
     "data": {
      "image/png": "[encoded data removed]",
      "text/plain": [
       "<Figure size 720x720 with 16 Axes>"
      ]
     },
     "metadata": {
      "needs_background": "light"
     },
     "output_type": "display_data"
    }
   ],
   "source": [
    "df.hist(\"FH\", by = [\"Region\", \"FH status\"],\n",
    "              color = \"limegreen\", \n",
    "              edgecolor = \"white\", figsize = (10, 10))"
   ]
  },
  {
   "cell_type": "markdown",
   "metadata": {},
   "source": [
    "Не самый удачный вариант разбиения, так как некоторые группы получились совсем маленькими (один-два столбца на гистограмме), но самое главное – мы можем одной строчкой кода построить много графиков для данных с желаемой группировкой."
   ]
  },
  {
   "cell_type": "markdown",
   "metadata": {},
   "source": [
    "Давайте попробуем проделать то же самое с ящиками с усами!"
   ]
  },
  {
   "cell_type": "code",
   "execution_count": 16,
   "metadata": {},
   "outputs": [
    {
     "name": "stderr",
     "output_type": "stream",
     "text": [
      "/opt/anaconda3/lib/python3.7/site-packages/matplotlib/cbook/__init__.py:1420: VisibleDeprecationWarning: Creating an ndarray from ragged nested sequences (which is a list-or-tuple of lists-or-tuples-or ndarrays with different lengths or shapes) is deprecated. If you meant to do this, you must specify 'dtype=object' when creating the ndarray.\n",
      "  X = np.atleast_1d(X.T if isinstance(X, np.ndarray) else np.asarray(X))\n"
     ]
    },
    {
     "data": {
      "text/plain": [
       "<matplotlib.axes._subplots.AxesSubplot at 0x11e536410>"
      ]
     },
     "execution_count": 16,
     "metadata": {},
     "output_type": "execute_result"
    },
    {
     "data": {
      "image/png": "[encoded data removed]",
      "text/plain": [
       "<Figure size 432x288 with 1 Axes>"
      ]
     },
     "metadata": {
      "needs_background": "light"
     },
     "output_type": "display_data"
    }
   ],
   "source": [
    "df.boxplot(\"FH\", by = \"Region\")"
   ]
  },
  {
   "cell_type": "markdown",
   "metadata": {},
   "source": [
    "Настраивать цвета для ящиков с усами не так просто, как для гистограмм, поэтому давайте просто уберём сетку, чтобы избавиться от лишних линий."
   ]
  },
  {
   "cell_type": "code",
   "execution_count": 17,
   "metadata": {},
   "outputs": [
    {
     "name": "stderr",
     "output_type": "stream",
     "text": [
      "/opt/anaconda3/lib/python3.7/site-packages/matplotlib/cbook/__init__.py:1420: VisibleDeprecationWarning: Creating an ndarray from ragged nested sequences (which is a list-or-tuple of lists-or-tuples-or ndarrays with different lengths or shapes) is deprecated. If you meant to do this, you must specify 'dtype=object' when creating the ndarray.\n",
      "  X = np.atleast_1d(X.T if isinstance(X, np.ndarray) else np.asarray(X))\n"
     ]
    },
    {
     "data": {
      "text/plain": [
       "<matplotlib.axes._subplots.AxesSubplot at 0x11f2e5750>"
      ]
     },
     "execution_count": 17,
     "metadata": {},
     "output_type": "execute_result"
    },
    {
     "data": {
      "image/png": "[encoded data removed]",
      "text/plain": [
       "<Figure size 432x288 with 1 Axes>"
      ]
     },
     "metadata": {
      "needs_background": "light"
     },
     "output_type": "display_data"
    }
   ],
   "source": [
    "# grid = False – выключаем сетку (grid)\n",
    "\n",
    "df.boxplot(\"FH\", by = \"Region\", grid = False)"
   ]
  }
 ],
 "metadata": {
  "kernelspec": {
   "display_name": "Python 3",
   "language": "python",
   "name": "python3"
  },
  "language_info": {
   "codemirror_mode": {
    "name": "ipython",
    "version": 3
   },
   "file_extension": ".py",
   "mimetype": "text/x-python",
   "name": "python",
   "nbconvert_exporter": "python",
   "pygments_lexer": "ipython3",
   "version": "3.7.4"
  }
 },
 "nbformat": 4,
 "nbformat_minor": 2
}
