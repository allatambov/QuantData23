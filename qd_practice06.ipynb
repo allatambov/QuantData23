{
  "cells": [
    {
      "cell_type": "markdown",
      "metadata": {
        "id": "BE1A0ey5o1Sl"
      },
      "source": [
        "# Основы работы с количественными данными\n",
        "\n",
        "*Алла Тамбовцева*\n",
        "\n",
        "## Практикум 6. Выявление связей в качественных и количественных данных"
      ]
    },
    {
      "cell_type": "markdown",
      "metadata": {
        "id": "t28s7Sspo1Sn"
      },
      "source": [
        "Импортируем библиотеку `pandas` и модуль `stats` для статистических тестов:"
      ]
    },
    {
      "cell_type": "code",
      "execution_count": 1,
      "metadata": {
        "id": "XfQgMvxOo1Sn"
      },
      "outputs": [],
      "source": [
        "import pandas as pd\n",
        "import scipy.stats as st"
      ]
    },
    {
      "cell_type": "markdown",
      "metadata": {
        "id": "TldHkzF_o1So"
      },
      "source": [
        "### Часть 1: выявление связей в качественных данных\n",
        "\n",
        "Завершаем историю с занимательной антропологией и сказочным опросом. Данные за неделю успели существенно подкопиться, поэтому давайте загрузим данные из нового файла (помимо новых наблюдений добавлены новые столбцы, необходимые для анализа данных в рамках этого практикума, чтобы не писать много непонятного кода самим):"
      ]
    },
    {
      "cell_type": "code",
      "execution_count": 2,
      "metadata": {
        "colab": {
          "base_uri": "https://localhost:8080/",
          "height": 400
        },
        "id": "9OCspM2ao1So",
        "outputId": "16e48c33-0dcb-4c69-857e-2d901fb61573"
      },
      "outputs": [
        {
          "output_type": "execute_result",
          "data": {
            "text/plain": [
              "   id  опрос                   профиль  пол   выбор1   выбор2  Теодор  Флора  \\\n",
              "0  35      4  политология и управление  жен  Альбина    Флора       0      1   \n",
              "1  36      4  политология и управление  жен   Давиль      Жак       0      0   \n",
              "2  37      4  политология и управление  жен      Жак      NaN       0      0   \n",
              "3  38      4  политология и управление  жен   Патрик  Пенапью       0      0   \n",
              "4  39      4  политология и управление  муж   Давиль  Оттилия       0      0   \n",
              "\n",
              "   Альбина  Патрик  Пенапью  Давиль  Оттилия  Жак  Марта  Марселла герои_пол  \n",
              "0        1       0        0       0        0    0      0         0       жен  \n",
              "1        0       0        0       1        0    1      0         0       муж  \n",
              "2        0       0        0       0        0    1      0         0       муж  \n",
              "3        0       1        1       0        0    0      0         0       муж  \n",
              "4        0       0        0       1        1    0      0         0      смеш  "
            ],
            "text/html": [
              "\n",
              "  <div id=\"df-6d5c0483-e27f-4689-a0b2-d594c1ebac40\" class=\"colab-df-container\">\n",
              "    <div>\n",
              "<style scoped>\n",
              "    .dataframe tbody tr th:only-of-type {\n",
              "        vertical-align: middle;\n",
              "    }\n",
              "\n",
              "    .dataframe tbody tr th {\n",
              "        vertical-align: top;\n",
              "    }\n",
              "\n",
              "    .dataframe thead th {\n",
              "        text-align: right;\n",
              "    }\n",
              "</style>\n",
              "<table border=\"1\" class=\"dataframe\">\n",
              "  <thead>\n",
              "    <tr style=\"text-align: right;\">\n",
              "      <th></th>\n",
              "      <th>id</th>\n",
              "      <th>опрос</th>\n",
              "      <th>профиль</th>\n",
              "      <th>пол</th>\n",
              "      <th>выбор1</th>\n",
              "      <th>выбор2</th>\n",
              "      <th>Теодор</th>\n",
              "      <th>Флора</th>\n",
              "      <th>Альбина</th>\n",
              "      <th>Патрик</th>\n",
              "      <th>Пенапью</th>\n",
              "      <th>Давиль</th>\n",
              "      <th>Оттилия</th>\n",
              "      <th>Жак</th>\n",
              "      <th>Марта</th>\n",
              "      <th>Марселла</th>\n",
              "      <th>герои_пол</th>\n",
              "    </tr>\n",
              "  </thead>\n",
              "  <tbody>\n",
              "    <tr>\n",
              "      <th>0</th>\n",
              "      <td>35</td>\n",
              "      <td>4</td>\n",
              "      <td>политология и управление</td>\n",
              "      <td>жен</td>\n",
              "      <td>Альбина</td>\n",
              "      <td>Флора</td>\n",
              "      <td>0</td>\n",
              "      <td>1</td>\n",
              "      <td>1</td>\n",
              "      <td>0</td>\n",
              "      <td>0</td>\n",
              "      <td>0</td>\n",
              "      <td>0</td>\n",
              "      <td>0</td>\n",
              "      <td>0</td>\n",
              "      <td>0</td>\n",
              "      <td>жен</td>\n",
              "    </tr>\n",
              "    <tr>\n",
              "      <th>1</th>\n",
              "      <td>36</td>\n",
              "      <td>4</td>\n",
              "      <td>политология и управление</td>\n",
              "      <td>жен</td>\n",
              "      <td>Давиль</td>\n",
              "      <td>Жак</td>\n",
              "      <td>0</td>\n",
              "      <td>0</td>\n",
              "      <td>0</td>\n",
              "      <td>0</td>\n",
              "      <td>0</td>\n",
              "      <td>1</td>\n",
              "      <td>0</td>\n",
              "      <td>1</td>\n",
              "      <td>0</td>\n",
              "      <td>0</td>\n",
              "      <td>муж</td>\n",
              "    </tr>\n",
              "    <tr>\n",
              "      <th>2</th>\n",
              "      <td>37</td>\n",
              "      <td>4</td>\n",
              "      <td>политология и управление</td>\n",
              "      <td>жен</td>\n",
              "      <td>Жак</td>\n",
              "      <td>NaN</td>\n",
              "      <td>0</td>\n",
              "      <td>0</td>\n",
              "      <td>0</td>\n",
              "      <td>0</td>\n",
              "      <td>0</td>\n",
              "      <td>0</td>\n",
              "      <td>0</td>\n",
              "      <td>1</td>\n",
              "      <td>0</td>\n",
              "      <td>0</td>\n",
              "      <td>муж</td>\n",
              "    </tr>\n",
              "    <tr>\n",
              "      <th>3</th>\n",
              "      <td>38</td>\n",
              "      <td>4</td>\n",
              "      <td>политология и управление</td>\n",
              "      <td>жен</td>\n",
              "      <td>Патрик</td>\n",
              "      <td>Пенапью</td>\n",
              "      <td>0</td>\n",
              "      <td>0</td>\n",
              "      <td>0</td>\n",
              "      <td>1</td>\n",
              "      <td>1</td>\n",
              "      <td>0</td>\n",
              "      <td>0</td>\n",
              "      <td>0</td>\n",
              "      <td>0</td>\n",
              "      <td>0</td>\n",
              "      <td>муж</td>\n",
              "    </tr>\n",
              "    <tr>\n",
              "      <th>4</th>\n",
              "      <td>39</td>\n",
              "      <td>4</td>\n",
              "      <td>политология и управление</td>\n",
              "      <td>муж</td>\n",
              "      <td>Давиль</td>\n",
              "      <td>Оттилия</td>\n",
              "      <td>0</td>\n",
              "      <td>0</td>\n",
              "      <td>0</td>\n",
              "      <td>0</td>\n",
              "      <td>0</td>\n",
              "      <td>1</td>\n",
              "      <td>1</td>\n",
              "      <td>0</td>\n",
              "      <td>0</td>\n",
              "      <td>0</td>\n",
              "      <td>смеш</td>\n",
              "    </tr>\n",
              "  </tbody>\n",
              "</table>\n",
              "</div>\n",
              "    <div class=\"colab-df-buttons\">\n",
              "\n",
              "  <div class=\"colab-df-container\">\n",
              "    <button class=\"colab-df-convert\" onclick=\"convertToInteractive('df-6d5c0483-e27f-4689-a0b2-d594c1ebac40')\"\n",
              "            title=\"Convert this dataframe to an interactive table.\"\n",
              "            style=\"display:none;\">\n",
              "\n",
              "  <svg xmlns=\"http://www.w3.org/2000/svg\" height=\"24px\" viewBox=\"0 -960 960 960\">\n",
              "    <path d=\"M120-120v-720h720v720H120Zm60-500h600v-160H180v160Zm220 220h160v-160H400v160Zm0 220h160v-160H400v160ZM180-400h160v-160H180v160Zm440 0h160v-160H620v160ZM180-180h160v-160H180v160Zm440 0h160v-160H620v160Z\"/>\n",
              "  </svg>\n",
              "    </button>\n",
              "\n",
              "  <style>\n",
              "    .colab-df-container {\n",
              "      display:flex;\n",
              "      gap: 12px;\n",
              "    }\n",
              "\n",
              "    .colab-df-convert {\n",
              "      background-color: #E8F0FE;\n",
              "      border: none;\n",
              "      border-radius: 50%;\n",
              "      cursor: pointer;\n",
              "      display: none;\n",
              "      fill: #1967D2;\n",
              "      height: 32px;\n",
              "      padding: 0 0 0 0;\n",
              "      width: 32px;\n",
              "    }\n",
              "\n",
              "    .colab-df-convert:hover {\n",
              "      background-color: #E2EBFA;\n",
              "      box-shadow: 0px 1px 2px rgba(60, 64, 67, 0.3), 0px 1px 3px 1px rgba(60, 64, 67, 0.15);\n",
              "      fill: #174EA6;\n",
              "    }\n",
              "\n",
              "    .colab-df-buttons div {\n",
              "      margin-bottom: 4px;\n",
              "    }\n",
              "\n",
              "    [theme=dark] .colab-df-convert {\n",
              "      background-color: #3B4455;\n",
              "      fill: #D2E3FC;\n",
              "    }\n",
              "\n",
              "    [theme=dark] .colab-df-convert:hover {\n",
              "      background-color: #434B5C;\n",
              "      box-shadow: 0px 1px 3px 1px rgba(0, 0, 0, 0.15);\n",
              "      filter: drop-shadow(0px 1px 2px rgba(0, 0, 0, 0.3));\n",
              "      fill: #FFFFFF;\n",
              "    }\n",
              "  </style>\n",
              "\n",
              "    <script>\n",
              "      const buttonEl =\n",
              "        document.querySelector('#df-6d5c0483-e27f-4689-a0b2-d594c1ebac40 button.colab-df-convert');\n",
              "      buttonEl.style.display =\n",
              "        google.colab.kernel.accessAllowed ? 'block' : 'none';\n",
              "\n",
              "      async function convertToInteractive(key) {\n",
              "        const element = document.querySelector('#df-6d5c0483-e27f-4689-a0b2-d594c1ebac40');\n",
              "        const dataTable =\n",
              "          await google.colab.kernel.invokeFunction('convertToInteractive',\n",
              "                                                    [key], {});\n",
              "        if (!dataTable) return;\n",
              "\n",
              "        const docLinkHtml = 'Like what you see? Visit the ' +\n",
              "          '<a target=\"_blank\" href=https://colab.research.google.com/notebooks/data_table.ipynb>data table notebook</a>'\n",
              "          + ' to learn more about interactive tables.';\n",
              "        element.innerHTML = '';\n",
              "        dataTable['output_type'] = 'display_data';\n",
              "        await google.colab.output.renderOutput(dataTable, element);\n",
              "        const docLink = document.createElement('div');\n",
              "        docLink.innerHTML = docLinkHtml;\n",
              "        element.appendChild(docLink);\n",
              "      }\n",
              "    </script>\n",
              "  </div>\n",
              "\n",
              "\n",
              "<div id=\"df-7d1ab08c-012e-4e14-9b74-8fb9d9fe87f3\">\n",
              "  <button class=\"colab-df-quickchart\" onclick=\"quickchart('df-7d1ab08c-012e-4e14-9b74-8fb9d9fe87f3')\"\n",
              "            title=\"Suggest charts.\"\n",
              "            style=\"display:none;\">\n",
              "\n",
              "<svg xmlns=\"http://www.w3.org/2000/svg\" height=\"24px\"viewBox=\"0 0 24 24\"\n",
              "     width=\"24px\">\n",
              "    <g>\n",
              "        <path d=\"M19 3H5c-1.1 0-2 .9-2 2v14c0 1.1.9 2 2 2h14c1.1 0 2-.9 2-2V5c0-1.1-.9-2-2-2zM9 17H7v-7h2v7zm4 0h-2V7h2v10zm4 0h-2v-4h2v4z\"/>\n",
              "    </g>\n",
              "</svg>\n",
              "  </button>\n",
              "\n",
              "<style>\n",
              "  .colab-df-quickchart {\n",
              "      --bg-color: #E8F0FE;\n",
              "      --fill-color: #1967D2;\n",
              "      --hover-bg-color: #E2EBFA;\n",
              "      --hover-fill-color: #174EA6;\n",
              "      --disabled-fill-color: #AAA;\n",
              "      --disabled-bg-color: #DDD;\n",
              "  }\n",
              "\n",
              "  [theme=dark] .colab-df-quickchart {\n",
              "      --bg-color: #3B4455;\n",
              "      --fill-color: #D2E3FC;\n",
              "      --hover-bg-color: #434B5C;\n",
              "      --hover-fill-color: #FFFFFF;\n",
              "      --disabled-bg-color: #3B4455;\n",
              "      --disabled-fill-color: #666;\n",
              "  }\n",
              "\n",
              "  .colab-df-quickchart {\n",
              "    background-color: var(--bg-color);\n",
              "    border: none;\n",
              "    border-radius: 50%;\n",
              "    cursor: pointer;\n",
              "    display: none;\n",
              "    fill: var(--fill-color);\n",
              "    height: 32px;\n",
              "    padding: 0;\n",
              "    width: 32px;\n",
              "  }\n",
              "\n",
              "  .colab-df-quickchart:hover {\n",
              "    background-color: var(--hover-bg-color);\n",
              "    box-shadow: 0 1px 2px rgba(60, 64, 67, 0.3), 0 1px 3px 1px rgba(60, 64, 67, 0.15);\n",
              "    fill: var(--button-hover-fill-color);\n",
              "  }\n",
              "\n",
              "  .colab-df-quickchart-complete:disabled,\n",
              "  .colab-df-quickchart-complete:disabled:hover {\n",
              "    background-color: var(--disabled-bg-color);\n",
              "    fill: var(--disabled-fill-color);\n",
              "    box-shadow: none;\n",
              "  }\n",
              "\n",
              "  .colab-df-spinner {\n",
              "    border: 2px solid var(--fill-color);\n",
              "    border-color: transparent;\n",
              "    border-bottom-color: var(--fill-color);\n",
              "    animation:\n",
              "      spin 1s steps(1) infinite;\n",
              "  }\n",
              "\n",
              "  @keyframes spin {\n",
              "    0% {\n",
              "      border-color: transparent;\n",
              "      border-bottom-color: var(--fill-color);\n",
              "      border-left-color: var(--fill-color);\n",
              "    }\n",
              "    20% {\n",
              "      border-color: transparent;\n",
              "      border-left-color: var(--fill-color);\n",
              "      border-top-color: var(--fill-color);\n",
              "    }\n",
              "    30% {\n",
              "      border-color: transparent;\n",
              "      border-left-color: var(--fill-color);\n",
              "      border-top-color: var(--fill-color);\n",
              "      border-right-color: var(--fill-color);\n",
              "    }\n",
              "    40% {\n",
              "      border-color: transparent;\n",
              "      border-right-color: var(--fill-color);\n",
              "      border-top-color: var(--fill-color);\n",
              "    }\n",
              "    60% {\n",
              "      border-color: transparent;\n",
              "      border-right-color: var(--fill-color);\n",
              "    }\n",
              "    80% {\n",
              "      border-color: transparent;\n",
              "      border-right-color: var(--fill-color);\n",
              "      border-bottom-color: var(--fill-color);\n",
              "    }\n",
              "    90% {\n",
              "      border-color: transparent;\n",
              "      border-bottom-color: var(--fill-color);\n",
              "    }\n",
              "  }\n",
              "</style>\n",
              "\n",
              "  <script>\n",
              "    async function quickchart(key) {\n",
              "      const quickchartButtonEl =\n",
              "        document.querySelector('#' + key + ' button');\n",
              "      quickchartButtonEl.disabled = true;  // To prevent multiple clicks.\n",
              "      quickchartButtonEl.classList.add('colab-df-spinner');\n",
              "      try {\n",
              "        const charts = await google.colab.kernel.invokeFunction(\n",
              "            'suggestCharts', [key], {});\n",
              "      } catch (error) {\n",
              "        console.error('Error during call to suggestCharts:', error);\n",
              "      }\n",
              "      quickchartButtonEl.classList.remove('colab-df-spinner');\n",
              "      quickchartButtonEl.classList.add('colab-df-quickchart-complete');\n",
              "    }\n",
              "    (() => {\n",
              "      let quickchartButtonEl =\n",
              "        document.querySelector('#df-7d1ab08c-012e-4e14-9b74-8fb9d9fe87f3 button');\n",
              "      quickchartButtonEl.style.display =\n",
              "        google.colab.kernel.accessAllowed ? 'block' : 'none';\n",
              "    })();\n",
              "  </script>\n",
              "</div>\n",
              "    </div>\n",
              "  </div>\n"
            ]
          },
          "metadata": {},
          "execution_count": 2
        }
      ],
      "source": [
        "# загружаем данные с первого листа\n",
        "# sheet_name = 0, нумерация с нуля\n",
        "\n",
        "end = pd.read_excel(\"NPK_final 2.xlsx\", sheet_name = 0)\n",
        "end.head()"
      ]
    },
    {
      "cell_type": "markdown",
      "metadata": {
        "id": "PbFCumIoo1Sp"
      },
      "source": [
        "Так как номер опроса здесь числовой (что не совсем правда с содержательной точки зрения), давайте изменим его на текстовый – просто глобально поменяем тип столбца:"
      ]
    },
    {
      "cell_type": "code",
      "execution_count": 3,
      "metadata": {
        "id": "3fVDdsQdo1Sp"
      },
      "outputs": [],
      "source": [
        "# выбираем столбец \"опрос\" из таблицы end\n",
        "# astype() меняет тип\n",
        "# здесь меняем числовой на текстовый – str, string\n",
        "\n",
        "end[\"опрос\"] = end[\"опрос\"].astype(str)"
      ]
    },
    {
      "cell_type": "markdown",
      "metadata": {
        "id": "L3WvfQsxo1Sp"
      },
      "source": [
        "Отлично, теперь бессодержательный числовой столбец нам не мешается, с оставшимися столбцами из 0 и 1 можно поработать. Вспомним про суммирование 0 и 1 и сортировку:"
      ]
    },
    {
      "cell_type": "code",
      "execution_count": 4,
      "metadata": {
        "colab": {
          "base_uri": "https://localhost:8080/"
        },
        "id": "wTec5a9ho1Sp",
        "outputId": "a3901314-7ea5-43d2-b894-710874821ef5"
      },
      "outputs": [
        {
          "output_type": "execute_result",
          "data": {
            "text/plain": [
              "Патрик      37\n",
              "Давиль      36\n",
              "Жак         36\n",
              "Марта       32\n",
              "Альбина     25\n",
              "Оттилия     24\n",
              "Марселла    17\n",
              "Пенапью     16\n",
              "Флора       15\n",
              "Теодор      11\n",
              "dtype: int64"
            ]
          },
          "metadata": {},
          "execution_count": 4
        }
      ],
      "source": [
        "# считаем суммы по всем столбцам в end\n",
        "# только по числовым numeric_only = True\n",
        "# сортируем по убыванию ascending = False\n",
        "\n",
        "end.sum(numeric_only = True).sort_values(ascending = False)"
      ]
    },
    {
      "cell_type": "markdown",
      "metadata": {
        "id": "GnyYqETmo1Sq"
      },
      "source": [
        "А заодно и про группировку с агрегированием:"
      ]
    },
    {
      "cell_type": "code",
      "execution_count": 5,
      "metadata": {
        "colab": {
          "base_uri": "https://localhost:8080/",
          "height": 143
        },
        "id": "Zo8sJAFpo1Sq",
        "outputId": "88f3d7b6-54e2-4cec-816e-23bd5de32f7a"
      },
      "outputs": [
        {
          "output_type": "execute_result",
          "data": {
            "text/plain": [
              "     Теодор  Флора  Альбина  Патрик  Пенапью  Давиль  Оттилия  Жак  Марта  \\\n",
              "пол                                                                         \n",
              "жен       6     14       13      15        7      10       19   18     22   \n",
              "муж       5      0        9      21        9      23        3   15      8   \n",
              "\n",
              "     Марселла  \n",
              "пол            \n",
              "жен         9  \n",
              "муж         7  "
            ],
            "text/html": [
              "\n",
              "  <div id=\"df-10868c5a-79a3-4634-accb-9b9cb5af090a\" class=\"colab-df-container\">\n",
              "    <div>\n",
              "<style scoped>\n",
              "    .dataframe tbody tr th:only-of-type {\n",
              "        vertical-align: middle;\n",
              "    }\n",
              "\n",
              "    .dataframe tbody tr th {\n",
              "        vertical-align: top;\n",
              "    }\n",
              "\n",
              "    .dataframe thead th {\n",
              "        text-align: right;\n",
              "    }\n",
              "</style>\n",
              "<table border=\"1\" class=\"dataframe\">\n",
              "  <thead>\n",
              "    <tr style=\"text-align: right;\">\n",
              "      <th></th>\n",
              "      <th>Теодор</th>\n",
              "      <th>Флора</th>\n",
              "      <th>Альбина</th>\n",
              "      <th>Патрик</th>\n",
              "      <th>Пенапью</th>\n",
              "      <th>Давиль</th>\n",
              "      <th>Оттилия</th>\n",
              "      <th>Жак</th>\n",
              "      <th>Марта</th>\n",
              "      <th>Марселла</th>\n",
              "    </tr>\n",
              "    <tr>\n",
              "      <th>пол</th>\n",
              "      <th></th>\n",
              "      <th></th>\n",
              "      <th></th>\n",
              "      <th></th>\n",
              "      <th></th>\n",
              "      <th></th>\n",
              "      <th></th>\n",
              "      <th></th>\n",
              "      <th></th>\n",
              "      <th></th>\n",
              "    </tr>\n",
              "  </thead>\n",
              "  <tbody>\n",
              "    <tr>\n",
              "      <th>жен</th>\n",
              "      <td>6</td>\n",
              "      <td>14</td>\n",
              "      <td>13</td>\n",
              "      <td>15</td>\n",
              "      <td>7</td>\n",
              "      <td>10</td>\n",
              "      <td>19</td>\n",
              "      <td>18</td>\n",
              "      <td>22</td>\n",
              "      <td>9</td>\n",
              "    </tr>\n",
              "    <tr>\n",
              "      <th>муж</th>\n",
              "      <td>5</td>\n",
              "      <td>0</td>\n",
              "      <td>9</td>\n",
              "      <td>21</td>\n",
              "      <td>9</td>\n",
              "      <td>23</td>\n",
              "      <td>3</td>\n",
              "      <td>15</td>\n",
              "      <td>8</td>\n",
              "      <td>7</td>\n",
              "    </tr>\n",
              "  </tbody>\n",
              "</table>\n",
              "</div>\n",
              "    <div class=\"colab-df-buttons\">\n",
              "\n",
              "  <div class=\"colab-df-container\">\n",
              "    <button class=\"colab-df-convert\" onclick=\"convertToInteractive('df-10868c5a-79a3-4634-accb-9b9cb5af090a')\"\n",
              "            title=\"Convert this dataframe to an interactive table.\"\n",
              "            style=\"display:none;\">\n",
              "\n",
              "  <svg xmlns=\"http://www.w3.org/2000/svg\" height=\"24px\" viewBox=\"0 -960 960 960\">\n",
              "    <path d=\"M120-120v-720h720v720H120Zm60-500h600v-160H180v160Zm220 220h160v-160H400v160Zm0 220h160v-160H400v160ZM180-400h160v-160H180v160Zm440 0h160v-160H620v160ZM180-180h160v-160H180v160Zm440 0h160v-160H620v160Z\"/>\n",
              "  </svg>\n",
              "    </button>\n",
              "\n",
              "  <style>\n",
              "    .colab-df-container {\n",
              "      display:flex;\n",
              "      gap: 12px;\n",
              "    }\n",
              "\n",
              "    .colab-df-convert {\n",
              "      background-color: #E8F0FE;\n",
              "      border: none;\n",
              "      border-radius: 50%;\n",
              "      cursor: pointer;\n",
              "      display: none;\n",
              "      fill: #1967D2;\n",
              "      height: 32px;\n",
              "      padding: 0 0 0 0;\n",
              "      width: 32px;\n",
              "    }\n",
              "\n",
              "    .colab-df-convert:hover {\n",
              "      background-color: #E2EBFA;\n",
              "      box-shadow: 0px 1px 2px rgba(60, 64, 67, 0.3), 0px 1px 3px 1px rgba(60, 64, 67, 0.15);\n",
              "      fill: #174EA6;\n",
              "    }\n",
              "\n",
              "    .colab-df-buttons div {\n",
              "      margin-bottom: 4px;\n",
              "    }\n",
              "\n",
              "    [theme=dark] .colab-df-convert {\n",
              "      background-color: #3B4455;\n",
              "      fill: #D2E3FC;\n",
              "    }\n",
              "\n",
              "    [theme=dark] .colab-df-convert:hover {\n",
              "      background-color: #434B5C;\n",
              "      box-shadow: 0px 1px 3px 1px rgba(0, 0, 0, 0.15);\n",
              "      filter: drop-shadow(0px 1px 2px rgba(0, 0, 0, 0.3));\n",
              "      fill: #FFFFFF;\n",
              "    }\n",
              "  </style>\n",
              "\n",
              "    <script>\n",
              "      const buttonEl =\n",
              "        document.querySelector('#df-10868c5a-79a3-4634-accb-9b9cb5af090a button.colab-df-convert');\n",
              "      buttonEl.style.display =\n",
              "        google.colab.kernel.accessAllowed ? 'block' : 'none';\n",
              "\n",
              "      async function convertToInteractive(key) {\n",
              "        const element = document.querySelector('#df-10868c5a-79a3-4634-accb-9b9cb5af090a');\n",
              "        const dataTable =\n",
              "          await google.colab.kernel.invokeFunction('convertToInteractive',\n",
              "                                                    [key], {});\n",
              "        if (!dataTable) return;\n",
              "\n",
              "        const docLinkHtml = 'Like what you see? Visit the ' +\n",
              "          '<a target=\"_blank\" href=https://colab.research.google.com/notebooks/data_table.ipynb>data table notebook</a>'\n",
              "          + ' to learn more about interactive tables.';\n",
              "        element.innerHTML = '';\n",
              "        dataTable['output_type'] = 'display_data';\n",
              "        await google.colab.output.renderOutput(dataTable, element);\n",
              "        const docLink = document.createElement('div');\n",
              "        docLink.innerHTML = docLinkHtml;\n",
              "        element.appendChild(docLink);\n",
              "      }\n",
              "    </script>\n",
              "  </div>\n",
              "\n",
              "\n",
              "<div id=\"df-23cf1fef-4f78-49d3-a79a-7d62ea447611\">\n",
              "  <button class=\"colab-df-quickchart\" onclick=\"quickchart('df-23cf1fef-4f78-49d3-a79a-7d62ea447611')\"\n",
              "            title=\"Suggest charts.\"\n",
              "            style=\"display:none;\">\n",
              "\n",
              "<svg xmlns=\"http://www.w3.org/2000/svg\" height=\"24px\"viewBox=\"0 0 24 24\"\n",
              "     width=\"24px\">\n",
              "    <g>\n",
              "        <path d=\"M19 3H5c-1.1 0-2 .9-2 2v14c0 1.1.9 2 2 2h14c1.1 0 2-.9 2-2V5c0-1.1-.9-2-2-2zM9 17H7v-7h2v7zm4 0h-2V7h2v10zm4 0h-2v-4h2v4z\"/>\n",
              "    </g>\n",
              "</svg>\n",
              "  </button>\n",
              "\n",
              "<style>\n",
              "  .colab-df-quickchart {\n",
              "      --bg-color: #E8F0FE;\n",
              "      --fill-color: #1967D2;\n",
              "      --hover-bg-color: #E2EBFA;\n",
              "      --hover-fill-color: #174EA6;\n",
              "      --disabled-fill-color: #AAA;\n",
              "      --disabled-bg-color: #DDD;\n",
              "  }\n",
              "\n",
              "  [theme=dark] .colab-df-quickchart {\n",
              "      --bg-color: #3B4455;\n",
              "      --fill-color: #D2E3FC;\n",
              "      --hover-bg-color: #434B5C;\n",
              "      --hover-fill-color: #FFFFFF;\n",
              "      --disabled-bg-color: #3B4455;\n",
              "      --disabled-fill-color: #666;\n",
              "  }\n",
              "\n",
              "  .colab-df-quickchart {\n",
              "    background-color: var(--bg-color);\n",
              "    border: none;\n",
              "    border-radius: 50%;\n",
              "    cursor: pointer;\n",
              "    display: none;\n",
              "    fill: var(--fill-color);\n",
              "    height: 32px;\n",
              "    padding: 0;\n",
              "    width: 32px;\n",
              "  }\n",
              "\n",
              "  .colab-df-quickchart:hover {\n",
              "    background-color: var(--hover-bg-color);\n",
              "    box-shadow: 0 1px 2px rgba(60, 64, 67, 0.3), 0 1px 3px 1px rgba(60, 64, 67, 0.15);\n",
              "    fill: var(--button-hover-fill-color);\n",
              "  }\n",
              "\n",
              "  .colab-df-quickchart-complete:disabled,\n",
              "  .colab-df-quickchart-complete:disabled:hover {\n",
              "    background-color: var(--disabled-bg-color);\n",
              "    fill: var(--disabled-fill-color);\n",
              "    box-shadow: none;\n",
              "  }\n",
              "\n",
              "  .colab-df-spinner {\n",
              "    border: 2px solid var(--fill-color);\n",
              "    border-color: transparent;\n",
              "    border-bottom-color: var(--fill-color);\n",
              "    animation:\n",
              "      spin 1s steps(1) infinite;\n",
              "  }\n",
              "\n",
              "  @keyframes spin {\n",
              "    0% {\n",
              "      border-color: transparent;\n",
              "      border-bottom-color: var(--fill-color);\n",
              "      border-left-color: var(--fill-color);\n",
              "    }\n",
              "    20% {\n",
              "      border-color: transparent;\n",
              "      border-left-color: var(--fill-color);\n",
              "      border-top-color: var(--fill-color);\n",
              "    }\n",
              "    30% {\n",
              "      border-color: transparent;\n",
              "      border-left-color: var(--fill-color);\n",
              "      border-top-color: var(--fill-color);\n",
              "      border-right-color: var(--fill-color);\n",
              "    }\n",
              "    40% {\n",
              "      border-color: transparent;\n",
              "      border-right-color: var(--fill-color);\n",
              "      border-top-color: var(--fill-color);\n",
              "    }\n",
              "    60% {\n",
              "      border-color: transparent;\n",
              "      border-right-color: var(--fill-color);\n",
              "    }\n",
              "    80% {\n",
              "      border-color: transparent;\n",
              "      border-right-color: var(--fill-color);\n",
              "      border-bottom-color: var(--fill-color);\n",
              "    }\n",
              "    90% {\n",
              "      border-color: transparent;\n",
              "      border-bottom-color: var(--fill-color);\n",
              "    }\n",
              "  }\n",
              "</style>\n",
              "\n",
              "  <script>\n",
              "    async function quickchart(key) {\n",
              "      const quickchartButtonEl =\n",
              "        document.querySelector('#' + key + ' button');\n",
              "      quickchartButtonEl.disabled = true;  // To prevent multiple clicks.\n",
              "      quickchartButtonEl.classList.add('colab-df-spinner');\n",
              "      try {\n",
              "        const charts = await google.colab.kernel.invokeFunction(\n",
              "            'suggestCharts', [key], {});\n",
              "      } catch (error) {\n",
              "        console.error('Error during call to suggestCharts:', error);\n",
              "      }\n",
              "      quickchartButtonEl.classList.remove('colab-df-spinner');\n",
              "      quickchartButtonEl.classList.add('colab-df-quickchart-complete');\n",
              "    }\n",
              "    (() => {\n",
              "      let quickchartButtonEl =\n",
              "        document.querySelector('#df-23cf1fef-4f78-49d3-a79a-7d62ea447611 button');\n",
              "      quickchartButtonEl.style.display =\n",
              "        google.colab.kernel.accessAllowed ? 'block' : 'none';\n",
              "    })();\n",
              "  </script>\n",
              "</div>\n",
              "    </div>\n",
              "  </div>\n"
            ]
          },
          "metadata": {},
          "execution_count": 5
        }
      ],
      "source": [
        "# группируем по полу и считаем суммы по каждой группе\n",
        "# numeric_only = True – для страховки, в новой версии\n",
        "# pandas ругается и просит сначала отобрать числовые столбцы\n",
        "\n",
        "res01 = end.groupby(\"пол\").agg(\"sum\", numeric_only = True)\n",
        "res01"
      ]
    },
    {
      "cell_type": "markdown",
      "metadata": {
        "id": "vnDSANVvo1Sq"
      },
      "source": [
        "Таблица выше – готовая **таблица сопряженности** («сопрягаем» два признака, пол и выбор героя = архетипа), поэтому давайте воспользуемся **критерием хи-квадрат** для проверки наличия связи между признаками:"
      ]
    },
    {
      "cell_type": "code",
      "execution_count": 6,
      "metadata": {
        "colab": {
          "base_uri": "https://localhost:8080/"
        },
        "id": "rf3dRa7Go1Sq",
        "outputId": "504c04e3-6510-486e-9b13-24dd11b51b48"
      },
      "outputs": [
        {
          "output_type": "execute_result",
          "data": {
            "text/plain": [
              "Chi2ContingencyResult(statistic=35.928703520164056, pvalue=4.081823446040576e-05, dof=9, expected_freq=array([[ 6.27896996,  7.99141631, 12.55793991, 20.54935622,  9.13304721,\n",
              "        18.83690987, 12.55793991, 18.83690987, 17.12446352,  9.13304721],\n",
              "       [ 4.72103004,  6.00858369,  9.44206009, 15.45064378,  6.86695279,\n",
              "        14.16309013,  9.44206009, 14.16309013, 12.87553648,  6.86695279]]))"
            ]
          },
          "metadata": {},
          "execution_count": 6
        }
      ],
      "source": [
        "# из модуля st вызываем функцию chi2_contingency()\n",
        "# contingency table – таблица сопряженности,\n",
        "# таблицу сопряженности res01 подаем на вход\n",
        "\n",
        "st.chi2_contingency(res01)"
      ]
    },
    {
      "cell_type": "markdown",
      "metadata": {
        "id": "2i1OCWglo1Sq"
      },
      "source": [
        "Итак, давайте разберемся с выдачей и результатами. Начнем с того, какую гипотезу мы проверяли:\n",
        "    \n",
        "$$\n",
        "H_0: \\text{связи нет, признаки независимы}\n",
        "$$\n",
        "    \n",
        "$$\n",
        "H_1: \\text{связь есть, признаки не независимы}\n",
        "$$\n",
        "    \n",
        "Для проверки этой гипотезы вы воспользовались критерием хи-квадрат, по итогу проверки получили **p-value** как меру жизнеспособности нулевой гипотезы с точки зрения данных. Здесь p-value – это второе число в выдаче, то есть, pvalue = 4.08e-05 = $4.08 \\times 10^{-05}$, что примерно 0. На 5%-ном уровне значимости гипотезу можно отвергнуть, а значит, связь между предпочтениями героев и полом существует.\n",
        "\n",
        "Это p-value было посчитано на основе **наблюдаемого значения статистики критерия**, оно в выдаче тоже есть, здесь `statistic=35.9287`. То есть, p-value было получено как $P(\\text{statistic} > 35.9287)$. Эта вероятность посчитана с учетом свойств распределения хи-квадрат, используемого для работы с данными на основе нашей таблицы сопряженности `res01`. В частности, чтобы такую вероятность посчитать, нужно знать важный параметр – **число степеней свободы**, в выдаче оно также присутствует, это `dof = 9` (от *degrees of freedom*). Считается оно так:\n",
        "\n",
        "$$\n",
        "\\text{dof} = (r - 1)(c - 1),\n",
        "$$\n",
        "\n",
        "где $r$ – число строк в таблице сопряженности, $c$ – число столбцов в таблице сопряженности. Здесь получаем:\n",
        "\n",
        "$$\n",
        "\\text{dof} = (2 - 1)(10 - 1) = 9.\n",
        "$$\n",
        "\n",
        "Наконец, последний элемент в выдаче – это массив `expected_freq` с таблицей **ожидаемых частот**, то есть тех значений в таблице сопряженности, которые можно ожидать в случае, если нулевая гипотеза верна и признаки действительно независимы. Например, в случае, если выбор героя от пола не зависит, мы можем ожидать, что короля Теодора выберут 6 девушек (значение 6.27 в первом списке) и 5 юношей (значение 4.72 во втором списке), а королеву Флору 8 девушек (значение 7.99 в первом списке) и 6 юношей (значение 6.00 во втором списке). Любопытно, что в случае с Теодором у нас так и получилось, в самой таблице сопряженности `res01` наблюдаемые частоты тоже 6 и 5, то есть выбор этого героя от пола точно не зависит. А вот с Флорой не так, 14 против ожидаемых 8 у девушек и 0 против ожидаемых 6 у юношей. Значит, выбор этого героя от пола все же зависит, девушки выбирают королеву чаще. Именно на основе сравнений наблюдаемых и ожидаемых частот и считается значение статистики `statistic` и p-value, вспомните лекцию."
      ]
    },
    {
      "cell_type": "markdown",
      "metadata": {
        "id": "aPI6-dAmo1Sr"
      },
      "source": [
        "Как быть, если у нас нет готовых 0 и 1 в столбцах, а есть просто два столбца с текстом? Как здесь, например, столбцы `пол` и `герои_пол`? Построить таблицу сопряженности через функцию `crosstab()`:"
      ]
    },
    {
      "cell_type": "code",
      "execution_count": 7,
      "metadata": {
        "colab": {
          "base_uri": "https://localhost:8080/",
          "height": 143
        },
        "id": "Bh-ZeyGQo1Sr",
        "outputId": "4ef560a0-8ef4-4100-b30a-0f11ffb5c9a0"
      },
      "outputs": [
        {
          "output_type": "execute_result",
          "data": {
            "text/plain": [
              "герои_пол  жен  муж  смеш\n",
              "пол                      \n",
              "жен         25   15    29\n",
              "муж          5   29    22"
            ],
            "text/html": [
              "\n",
              "  <div id=\"df-22edc2a1-726d-4965-b887-efddb950f471\" class=\"colab-df-container\">\n",
              "    <div>\n",
              "<style scoped>\n",
              "    .dataframe tbody tr th:only-of-type {\n",
              "        vertical-align: middle;\n",
              "    }\n",
              "\n",
              "    .dataframe tbody tr th {\n",
              "        vertical-align: top;\n",
              "    }\n",
              "\n",
              "    .dataframe thead th {\n",
              "        text-align: right;\n",
              "    }\n",
              "</style>\n",
              "<table border=\"1\" class=\"dataframe\">\n",
              "  <thead>\n",
              "    <tr style=\"text-align: right;\">\n",
              "      <th>герои_пол</th>\n",
              "      <th>жен</th>\n",
              "      <th>муж</th>\n",
              "      <th>смеш</th>\n",
              "    </tr>\n",
              "    <tr>\n",
              "      <th>пол</th>\n",
              "      <th></th>\n",
              "      <th></th>\n",
              "      <th></th>\n",
              "    </tr>\n",
              "  </thead>\n",
              "  <tbody>\n",
              "    <tr>\n",
              "      <th>жен</th>\n",
              "      <td>25</td>\n",
              "      <td>15</td>\n",
              "      <td>29</td>\n",
              "    </tr>\n",
              "    <tr>\n",
              "      <th>муж</th>\n",
              "      <td>5</td>\n",
              "      <td>29</td>\n",
              "      <td>22</td>\n",
              "    </tr>\n",
              "  </tbody>\n",
              "</table>\n",
              "</div>\n",
              "    <div class=\"colab-df-buttons\">\n",
              "\n",
              "  <div class=\"colab-df-container\">\n",
              "    <button class=\"colab-df-convert\" onclick=\"convertToInteractive('df-22edc2a1-726d-4965-b887-efddb950f471')\"\n",
              "            title=\"Convert this dataframe to an interactive table.\"\n",
              "            style=\"display:none;\">\n",
              "\n",
              "  <svg xmlns=\"http://www.w3.org/2000/svg\" height=\"24px\" viewBox=\"0 -960 960 960\">\n",
              "    <path d=\"M120-120v-720h720v720H120Zm60-500h600v-160H180v160Zm220 220h160v-160H400v160Zm0 220h160v-160H400v160ZM180-400h160v-160H180v160Zm440 0h160v-160H620v160ZM180-180h160v-160H180v160Zm440 0h160v-160H620v160Z\"/>\n",
              "  </svg>\n",
              "    </button>\n",
              "\n",
              "  <style>\n",
              "    .colab-df-container {\n",
              "      display:flex;\n",
              "      gap: 12px;\n",
              "    }\n",
              "\n",
              "    .colab-df-convert {\n",
              "      background-color: #E8F0FE;\n",
              "      border: none;\n",
              "      border-radius: 50%;\n",
              "      cursor: pointer;\n",
              "      display: none;\n",
              "      fill: #1967D2;\n",
              "      height: 32px;\n",
              "      padding: 0 0 0 0;\n",
              "      width: 32px;\n",
              "    }\n",
              "\n",
              "    .colab-df-convert:hover {\n",
              "      background-color: #E2EBFA;\n",
              "      box-shadow: 0px 1px 2px rgba(60, 64, 67, 0.3), 0px 1px 3px 1px rgba(60, 64, 67, 0.15);\n",
              "      fill: #174EA6;\n",
              "    }\n",
              "\n",
              "    .colab-df-buttons div {\n",
              "      margin-bottom: 4px;\n",
              "    }\n",
              "\n",
              "    [theme=dark] .colab-df-convert {\n",
              "      background-color: #3B4455;\n",
              "      fill: #D2E3FC;\n",
              "    }\n",
              "\n",
              "    [theme=dark] .colab-df-convert:hover {\n",
              "      background-color: #434B5C;\n",
              "      box-shadow: 0px 1px 3px 1px rgba(0, 0, 0, 0.15);\n",
              "      filter: drop-shadow(0px 1px 2px rgba(0, 0, 0, 0.3));\n",
              "      fill: #FFFFFF;\n",
              "    }\n",
              "  </style>\n",
              "\n",
              "    <script>\n",
              "      const buttonEl =\n",
              "        document.querySelector('#df-22edc2a1-726d-4965-b887-efddb950f471 button.colab-df-convert');\n",
              "      buttonEl.style.display =\n",
              "        google.colab.kernel.accessAllowed ? 'block' : 'none';\n",
              "\n",
              "      async function convertToInteractive(key) {\n",
              "        const element = document.querySelector('#df-22edc2a1-726d-4965-b887-efddb950f471');\n",
              "        const dataTable =\n",
              "          await google.colab.kernel.invokeFunction('convertToInteractive',\n",
              "                                                    [key], {});\n",
              "        if (!dataTable) return;\n",
              "\n",
              "        const docLinkHtml = 'Like what you see? Visit the ' +\n",
              "          '<a target=\"_blank\" href=https://colab.research.google.com/notebooks/data_table.ipynb>data table notebook</a>'\n",
              "          + ' to learn more about interactive tables.';\n",
              "        element.innerHTML = '';\n",
              "        dataTable['output_type'] = 'display_data';\n",
              "        await google.colab.output.renderOutput(dataTable, element);\n",
              "        const docLink = document.createElement('div');\n",
              "        docLink.innerHTML = docLinkHtml;\n",
              "        element.appendChild(docLink);\n",
              "      }\n",
              "    </script>\n",
              "  </div>\n",
              "\n",
              "\n",
              "<div id=\"df-36f0e36f-63ef-4dac-93e4-77cb8c08e70e\">\n",
              "  <button class=\"colab-df-quickchart\" onclick=\"quickchart('df-36f0e36f-63ef-4dac-93e4-77cb8c08e70e')\"\n",
              "            title=\"Suggest charts.\"\n",
              "            style=\"display:none;\">\n",
              "\n",
              "<svg xmlns=\"http://www.w3.org/2000/svg\" height=\"24px\"viewBox=\"0 0 24 24\"\n",
              "     width=\"24px\">\n",
              "    <g>\n",
              "        <path d=\"M19 3H5c-1.1 0-2 .9-2 2v14c0 1.1.9 2 2 2h14c1.1 0 2-.9 2-2V5c0-1.1-.9-2-2-2zM9 17H7v-7h2v7zm4 0h-2V7h2v10zm4 0h-2v-4h2v4z\"/>\n",
              "    </g>\n",
              "</svg>\n",
              "  </button>\n",
              "\n",
              "<style>\n",
              "  .colab-df-quickchart {\n",
              "      --bg-color: #E8F0FE;\n",
              "      --fill-color: #1967D2;\n",
              "      --hover-bg-color: #E2EBFA;\n",
              "      --hover-fill-color: #174EA6;\n",
              "      --disabled-fill-color: #AAA;\n",
              "      --disabled-bg-color: #DDD;\n",
              "  }\n",
              "\n",
              "  [theme=dark] .colab-df-quickchart {\n",
              "      --bg-color: #3B4455;\n",
              "      --fill-color: #D2E3FC;\n",
              "      --hover-bg-color: #434B5C;\n",
              "      --hover-fill-color: #FFFFFF;\n",
              "      --disabled-bg-color: #3B4455;\n",
              "      --disabled-fill-color: #666;\n",
              "  }\n",
              "\n",
              "  .colab-df-quickchart {\n",
              "    background-color: var(--bg-color);\n",
              "    border: none;\n",
              "    border-radius: 50%;\n",
              "    cursor: pointer;\n",
              "    display: none;\n",
              "    fill: var(--fill-color);\n",
              "    height: 32px;\n",
              "    padding: 0;\n",
              "    width: 32px;\n",
              "  }\n",
              "\n",
              "  .colab-df-quickchart:hover {\n",
              "    background-color: var(--hover-bg-color);\n",
              "    box-shadow: 0 1px 2px rgba(60, 64, 67, 0.3), 0 1px 3px 1px rgba(60, 64, 67, 0.15);\n",
              "    fill: var(--button-hover-fill-color);\n",
              "  }\n",
              "\n",
              "  .colab-df-quickchart-complete:disabled,\n",
              "  .colab-df-quickchart-complete:disabled:hover {\n",
              "    background-color: var(--disabled-bg-color);\n",
              "    fill: var(--disabled-fill-color);\n",
              "    box-shadow: none;\n",
              "  }\n",
              "\n",
              "  .colab-df-spinner {\n",
              "    border: 2px solid var(--fill-color);\n",
              "    border-color: transparent;\n",
              "    border-bottom-color: var(--fill-color);\n",
              "    animation:\n",
              "      spin 1s steps(1) infinite;\n",
              "  }\n",
              "\n",
              "  @keyframes spin {\n",
              "    0% {\n",
              "      border-color: transparent;\n",
              "      border-bottom-color: var(--fill-color);\n",
              "      border-left-color: var(--fill-color);\n",
              "    }\n",
              "    20% {\n",
              "      border-color: transparent;\n",
              "      border-left-color: var(--fill-color);\n",
              "      border-top-color: var(--fill-color);\n",
              "    }\n",
              "    30% {\n",
              "      border-color: transparent;\n",
              "      border-left-color: var(--fill-color);\n",
              "      border-top-color: var(--fill-color);\n",
              "      border-right-color: var(--fill-color);\n",
              "    }\n",
              "    40% {\n",
              "      border-color: transparent;\n",
              "      border-right-color: var(--fill-color);\n",
              "      border-top-color: var(--fill-color);\n",
              "    }\n",
              "    60% {\n",
              "      border-color: transparent;\n",
              "      border-right-color: var(--fill-color);\n",
              "    }\n",
              "    80% {\n",
              "      border-color: transparent;\n",
              "      border-right-color: var(--fill-color);\n",
              "      border-bottom-color: var(--fill-color);\n",
              "    }\n",
              "    90% {\n",
              "      border-color: transparent;\n",
              "      border-bottom-color: var(--fill-color);\n",
              "    }\n",
              "  }\n",
              "</style>\n",
              "\n",
              "  <script>\n",
              "    async function quickchart(key) {\n",
              "      const quickchartButtonEl =\n",
              "        document.querySelector('#' + key + ' button');\n",
              "      quickchartButtonEl.disabled = true;  // To prevent multiple clicks.\n",
              "      quickchartButtonEl.classList.add('colab-df-spinner');\n",
              "      try {\n",
              "        const charts = await google.colab.kernel.invokeFunction(\n",
              "            'suggestCharts', [key], {});\n",
              "      } catch (error) {\n",
              "        console.error('Error during call to suggestCharts:', error);\n",
              "      }\n",
              "      quickchartButtonEl.classList.remove('colab-df-spinner');\n",
              "      quickchartButtonEl.classList.add('colab-df-quickchart-complete');\n",
              "    }\n",
              "    (() => {\n",
              "      let quickchartButtonEl =\n",
              "        document.querySelector('#df-36f0e36f-63ef-4dac-93e4-77cb8c08e70e button');\n",
              "      quickchartButtonEl.style.display =\n",
              "        google.colab.kernel.accessAllowed ? 'block' : 'none';\n",
              "    })();\n",
              "  </script>\n",
              "</div>\n",
              "    </div>\n",
              "  </div>\n"
            ]
          },
          "metadata": {},
          "execution_count": 7
        }
      ],
      "source": [
        "# crosstab – перекрестная таблица\n",
        "\n",
        "res02 = pd.crosstab(end[\"пол\"], end[\"герои_пол\"])\n",
        "res02"
      ]
    },
    {
      "cell_type": "markdown",
      "metadata": {
        "id": "P3_YdJn8o1Sr"
      },
      "source": [
        "Эта таблица показывает, героев какого пола выбирали девушки и юноши. Так как можно было выбрать двоих, здесь три категории: `муж` (оба героя мужского пола), `жен` (оба героя женского пола), `смеш` (герои разного пола).\n",
        "\n",
        "И к такой таблице тоже можно применить критерий хи-квадрат и функцию `chi2_contingency()`!"
      ]
    },
    {
      "cell_type": "code",
      "execution_count": 8,
      "metadata": {
        "colab": {
          "base_uri": "https://localhost:8080/"
        },
        "id": "QSrtjTs_o1Sr",
        "outputId": "7837131a-c628-4dd4-bdfc-b9a2c959e6cb"
      },
      "outputs": [
        {
          "output_type": "execute_result",
          "data": {
            "text/plain": [
              "Chi2ContingencyResult(statistic=17.586882826253035, pvalue=0.00015172492005852153, dof=2, expected_freq=array([[16.56 , 24.288, 28.152],\n",
              "       [13.44 , 19.712, 22.848]]))"
            ]
          },
          "metadata": {},
          "execution_count": 8
        }
      ],
      "source": [
        "st.chi2_contingency(res02)"
      ]
    },
    {
      "cell_type": "markdown",
      "metadata": {
        "id": "d43XB0Owo1Sr"
      },
      "source": [
        "Что есть что в таких выдачах мы уже разобрали, поэтому здесь посмотрим только на p-value, оно примерно 0.0002, значит, гипотезу о независимости признаков мы отвергаем. Связь есть, и мы видим по таблице, что девушкам интересны герои женского пола, а юношам – герои мужского пола."
      ]
    },
    {
      "cell_type": "markdown",
      "metadata": {
        "id": "UbOdabN1o1Sr"
      },
      "source": [
        "### Часть 2: выявление связей в количественных данных\n",
        "\n",
        "Возвращаемся к данным по квартирам в Москве, этот CSV-файл мы уже видели в начале курса:"
      ]
    },
    {
      "cell_type": "code",
      "execution_count": 9,
      "metadata": {
        "colab": {
          "base_uri": "https://localhost:8080/",
          "height": 206
        },
        "id": "OWNKTCmho1Sr",
        "outputId": "295d7ff3-1f69-42e7-e9a3-8da4c7c2e3bc"
      },
      "outputs": [
        {
          "output_type": "execute_result",
          "data": {
            "text/plain": [
              "   price  totsp  livesp  kitsp  dist  metrdist  walk  brick  floor\n",
              "0    730    134     102   10.0   9.0        10     1      1      1\n",
              "1    477    119      93   15.0   9.0         1     1      0      1\n",
              "2    350     80      44   14.0  10.5        10     1      1      0\n",
              "3    410    102      75   10.0   6.5         5     1      1      1\n",
              "4     50     63      47    7.0  12.0        20     0      1      0"
            ],
            "text/html": [
              "\n",
              "  <div id=\"df-3ee350bb-363d-470e-9bd3-dd659dc04877\" class=\"colab-df-container\">\n",
              "    <div>\n",
              "<style scoped>\n",
              "    .dataframe tbody tr th:only-of-type {\n",
              "        vertical-align: middle;\n",
              "    }\n",
              "\n",
              "    .dataframe tbody tr th {\n",
              "        vertical-align: top;\n",
              "    }\n",
              "\n",
              "    .dataframe thead th {\n",
              "        text-align: right;\n",
              "    }\n",
              "</style>\n",
              "<table border=\"1\" class=\"dataframe\">\n",
              "  <thead>\n",
              "    <tr style=\"text-align: right;\">\n",
              "      <th></th>\n",
              "      <th>price</th>\n",
              "      <th>totsp</th>\n",
              "      <th>livesp</th>\n",
              "      <th>kitsp</th>\n",
              "      <th>dist</th>\n",
              "      <th>metrdist</th>\n",
              "      <th>walk</th>\n",
              "      <th>brick</th>\n",
              "      <th>floor</th>\n",
              "    </tr>\n",
              "  </thead>\n",
              "  <tbody>\n",
              "    <tr>\n",
              "      <th>0</th>\n",
              "      <td>730</td>\n",
              "      <td>134</td>\n",
              "      <td>102</td>\n",
              "      <td>10.0</td>\n",
              "      <td>9.0</td>\n",
              "      <td>10</td>\n",
              "      <td>1</td>\n",
              "      <td>1</td>\n",
              "      <td>1</td>\n",
              "    </tr>\n",
              "    <tr>\n",
              "      <th>1</th>\n",
              "      <td>477</td>\n",
              "      <td>119</td>\n",
              "      <td>93</td>\n",
              "      <td>15.0</td>\n",
              "      <td>9.0</td>\n",
              "      <td>1</td>\n",
              "      <td>1</td>\n",
              "      <td>0</td>\n",
              "      <td>1</td>\n",
              "    </tr>\n",
              "    <tr>\n",
              "      <th>2</th>\n",
              "      <td>350</td>\n",
              "      <td>80</td>\n",
              "      <td>44</td>\n",
              "      <td>14.0</td>\n",
              "      <td>10.5</td>\n",
              "      <td>10</td>\n",
              "      <td>1</td>\n",
              "      <td>1</td>\n",
              "      <td>0</td>\n",
              "    </tr>\n",
              "    <tr>\n",
              "      <th>3</th>\n",
              "      <td>410</td>\n",
              "      <td>102</td>\n",
              "      <td>75</td>\n",
              "      <td>10.0</td>\n",
              "      <td>6.5</td>\n",
              "      <td>5</td>\n",
              "      <td>1</td>\n",
              "      <td>1</td>\n",
              "      <td>1</td>\n",
              "    </tr>\n",
              "    <tr>\n",
              "      <th>4</th>\n",
              "      <td>50</td>\n",
              "      <td>63</td>\n",
              "      <td>47</td>\n",
              "      <td>7.0</td>\n",
              "      <td>12.0</td>\n",
              "      <td>20</td>\n",
              "      <td>0</td>\n",
              "      <td>1</td>\n",
              "      <td>0</td>\n",
              "    </tr>\n",
              "  </tbody>\n",
              "</table>\n",
              "</div>\n",
              "    <div class=\"colab-df-buttons\">\n",
              "\n",
              "  <div class=\"colab-df-container\">\n",
              "    <button class=\"colab-df-convert\" onclick=\"convertToInteractive('df-3ee350bb-363d-470e-9bd3-dd659dc04877')\"\n",
              "            title=\"Convert this dataframe to an interactive table.\"\n",
              "            style=\"display:none;\">\n",
              "\n",
              "  <svg xmlns=\"http://www.w3.org/2000/svg\" height=\"24px\" viewBox=\"0 -960 960 960\">\n",
              "    <path d=\"M120-120v-720h720v720H120Zm60-500h600v-160H180v160Zm220 220h160v-160H400v160Zm0 220h160v-160H400v160ZM180-400h160v-160H180v160Zm440 0h160v-160H620v160ZM180-180h160v-160H180v160Zm440 0h160v-160H620v160Z\"/>\n",
              "  </svg>\n",
              "    </button>\n",
              "\n",
              "  <style>\n",
              "    .colab-df-container {\n",
              "      display:flex;\n",
              "      gap: 12px;\n",
              "    }\n",
              "\n",
              "    .colab-df-convert {\n",
              "      background-color: #E8F0FE;\n",
              "      border: none;\n",
              "      border-radius: 50%;\n",
              "      cursor: pointer;\n",
              "      display: none;\n",
              "      fill: #1967D2;\n",
              "      height: 32px;\n",
              "      padding: 0 0 0 0;\n",
              "      width: 32px;\n",
              "    }\n",
              "\n",
              "    .colab-df-convert:hover {\n",
              "      background-color: #E2EBFA;\n",
              "      box-shadow: 0px 1px 2px rgba(60, 64, 67, 0.3), 0px 1px 3px 1px rgba(60, 64, 67, 0.15);\n",
              "      fill: #174EA6;\n",
              "    }\n",
              "\n",
              "    .colab-df-buttons div {\n",
              "      margin-bottom: 4px;\n",
              "    }\n",
              "\n",
              "    [theme=dark] .colab-df-convert {\n",
              "      background-color: #3B4455;\n",
              "      fill: #D2E3FC;\n",
              "    }\n",
              "\n",
              "    [theme=dark] .colab-df-convert:hover {\n",
              "      background-color: #434B5C;\n",
              "      box-shadow: 0px 1px 3px 1px rgba(0, 0, 0, 0.15);\n",
              "      filter: drop-shadow(0px 1px 2px rgba(0, 0, 0, 0.3));\n",
              "      fill: #FFFFFF;\n",
              "    }\n",
              "  </style>\n",
              "\n",
              "    <script>\n",
              "      const buttonEl =\n",
              "        document.querySelector('#df-3ee350bb-363d-470e-9bd3-dd659dc04877 button.colab-df-convert');\n",
              "      buttonEl.style.display =\n",
              "        google.colab.kernel.accessAllowed ? 'block' : 'none';\n",
              "\n",
              "      async function convertToInteractive(key) {\n",
              "        const element = document.querySelector('#df-3ee350bb-363d-470e-9bd3-dd659dc04877');\n",
              "        const dataTable =\n",
              "          await google.colab.kernel.invokeFunction('convertToInteractive',\n",
              "                                                    [key], {});\n",
              "        if (!dataTable) return;\n",
              "\n",
              "        const docLinkHtml = 'Like what you see? Visit the ' +\n",
              "          '<a target=\"_blank\" href=https://colab.research.google.com/notebooks/data_table.ipynb>data table notebook</a>'\n",
              "          + ' to learn more about interactive tables.';\n",
              "        element.innerHTML = '';\n",
              "        dataTable['output_type'] = 'display_data';\n",
              "        await google.colab.output.renderOutput(dataTable, element);\n",
              "        const docLink = document.createElement('div');\n",
              "        docLink.innerHTML = docLinkHtml;\n",
              "        element.appendChild(docLink);\n",
              "      }\n",
              "    </script>\n",
              "  </div>\n",
              "\n",
              "\n",
              "<div id=\"df-c6f76ba6-e962-4069-a560-d8be2e475abe\">\n",
              "  <button class=\"colab-df-quickchart\" onclick=\"quickchart('df-c6f76ba6-e962-4069-a560-d8be2e475abe')\"\n",
              "            title=\"Suggest charts.\"\n",
              "            style=\"display:none;\">\n",
              "\n",
              "<svg xmlns=\"http://www.w3.org/2000/svg\" height=\"24px\"viewBox=\"0 0 24 24\"\n",
              "     width=\"24px\">\n",
              "    <g>\n",
              "        <path d=\"M19 3H5c-1.1 0-2 .9-2 2v14c0 1.1.9 2 2 2h14c1.1 0 2-.9 2-2V5c0-1.1-.9-2-2-2zM9 17H7v-7h2v7zm4 0h-2V7h2v10zm4 0h-2v-4h2v4z\"/>\n",
              "    </g>\n",
              "</svg>\n",
              "  </button>\n",
              "\n",
              "<style>\n",
              "  .colab-df-quickchart {\n",
              "      --bg-color: #E8F0FE;\n",
              "      --fill-color: #1967D2;\n",
              "      --hover-bg-color: #E2EBFA;\n",
              "      --hover-fill-color: #174EA6;\n",
              "      --disabled-fill-color: #AAA;\n",
              "      --disabled-bg-color: #DDD;\n",
              "  }\n",
              "\n",
              "  [theme=dark] .colab-df-quickchart {\n",
              "      --bg-color: #3B4455;\n",
              "      --fill-color: #D2E3FC;\n",
              "      --hover-bg-color: #434B5C;\n",
              "      --hover-fill-color: #FFFFFF;\n",
              "      --disabled-bg-color: #3B4455;\n",
              "      --disabled-fill-color: #666;\n",
              "  }\n",
              "\n",
              "  .colab-df-quickchart {\n",
              "    background-color: var(--bg-color);\n",
              "    border: none;\n",
              "    border-radius: 50%;\n",
              "    cursor: pointer;\n",
              "    display: none;\n",
              "    fill: var(--fill-color);\n",
              "    height: 32px;\n",
              "    padding: 0;\n",
              "    width: 32px;\n",
              "  }\n",
              "\n",
              "  .colab-df-quickchart:hover {\n",
              "    background-color: var(--hover-bg-color);\n",
              "    box-shadow: 0 1px 2px rgba(60, 64, 67, 0.3), 0 1px 3px 1px rgba(60, 64, 67, 0.15);\n",
              "    fill: var(--button-hover-fill-color);\n",
              "  }\n",
              "\n",
              "  .colab-df-quickchart-complete:disabled,\n",
              "  .colab-df-quickchart-complete:disabled:hover {\n",
              "    background-color: var(--disabled-bg-color);\n",
              "    fill: var(--disabled-fill-color);\n",
              "    box-shadow: none;\n",
              "  }\n",
              "\n",
              "  .colab-df-spinner {\n",
              "    border: 2px solid var(--fill-color);\n",
              "    border-color: transparent;\n",
              "    border-bottom-color: var(--fill-color);\n",
              "    animation:\n",
              "      spin 1s steps(1) infinite;\n",
              "  }\n",
              "\n",
              "  @keyframes spin {\n",
              "    0% {\n",
              "      border-color: transparent;\n",
              "      border-bottom-color: var(--fill-color);\n",
              "      border-left-color: var(--fill-color);\n",
              "    }\n",
              "    20% {\n",
              "      border-color: transparent;\n",
              "      border-left-color: var(--fill-color);\n",
              "      border-top-color: var(--fill-color);\n",
              "    }\n",
              "    30% {\n",
              "      border-color: transparent;\n",
              "      border-left-color: var(--fill-color);\n",
              "      border-top-color: var(--fill-color);\n",
              "      border-right-color: var(--fill-color);\n",
              "    }\n",
              "    40% {\n",
              "      border-color: transparent;\n",
              "      border-right-color: var(--fill-color);\n",
              "      border-top-color: var(--fill-color);\n",
              "    }\n",
              "    60% {\n",
              "      border-color: transparent;\n",
              "      border-right-color: var(--fill-color);\n",
              "    }\n",
              "    80% {\n",
              "      border-color: transparent;\n",
              "      border-right-color: var(--fill-color);\n",
              "      border-bottom-color: var(--fill-color);\n",
              "    }\n",
              "    90% {\n",
              "      border-color: transparent;\n",
              "      border-bottom-color: var(--fill-color);\n",
              "    }\n",
              "  }\n",
              "</style>\n",
              "\n",
              "  <script>\n",
              "    async function quickchart(key) {\n",
              "      const quickchartButtonEl =\n",
              "        document.querySelector('#' + key + ' button');\n",
              "      quickchartButtonEl.disabled = true;  // To prevent multiple clicks.\n",
              "      quickchartButtonEl.classList.add('colab-df-spinner');\n",
              "      try {\n",
              "        const charts = await google.colab.kernel.invokeFunction(\n",
              "            'suggestCharts', [key], {});\n",
              "      } catch (error) {\n",
              "        console.error('Error during call to suggestCharts:', error);\n",
              "      }\n",
              "      quickchartButtonEl.classList.remove('colab-df-spinner');\n",
              "      quickchartButtonEl.classList.add('colab-df-quickchart-complete');\n",
              "    }\n",
              "    (() => {\n",
              "      let quickchartButtonEl =\n",
              "        document.querySelector('#df-c6f76ba6-e962-4069-a560-d8be2e475abe button');\n",
              "      quickchartButtonEl.style.display =\n",
              "        google.colab.kernel.accessAllowed ? 'block' : 'none';\n",
              "    })();\n",
              "  </script>\n",
              "</div>\n",
              "    </div>\n",
              "  </div>\n"
            ]
          },
          "metadata": {},
          "execution_count": 9
        }
      ],
      "source": [
        "flats = pd.read_csv(\"flats.csv\")\n",
        "flats.head()"
      ]
    },
    {
      "cell_type": "markdown",
      "metadata": {
        "id": "Rwfh4_1bo1Ss"
      },
      "source": [
        "Построим **диаграмму рассеивания** (она же *scatterplot*) для визуализации связи между жилой площадью квартиры (`livesp`) и ее ценой (`price`):"
      ]
    },
    {
      "cell_type": "code",
      "execution_count": 10,
      "metadata": {
        "colab": {
          "base_uri": "https://localhost:8080/",
          "height": 449
        },
        "id": "11-mK85Mo1Ss",
        "outputId": "95983b3c-14c1-4de5-f01f-f95235df62f2"
      },
      "outputs": [
        {
          "output_type": "display_data",
          "data": {
            "text/plain": [
              "<Figure size 640x480 with 1 Axes>"
            ],
            "image/png": "[encoded data removed]"
          },
          "metadata": {}
        }
      ],
      "source": [
        "# строим график по таблице flats\n",
        "# после названия добавляем модуль plot для графиков\n",
        "# а после plot – название конкретного графика\n",
        "\n",
        "flats.plot.scatter(x = \"livesp\", y = \"price\");"
      ]
    },
    {
      "cell_type": "markdown",
      "metadata": {
        "id": "9apb6XuSo1Ss"
      },
      "source": [
        "По диаграмме видно, что связь между показателями есть, чем больше площадь, тем выше цена. При этом есть нетипичное наблюдение, точка, которая отличается от остального облака точек, это квартира с очень большой площадью более 100 квадратных метров и очень высокой ценой более 700 тысяч долларов. Теоретически, эта точка может искажать оценки силы связи между показателями, но в данном случае несильно, потому что от основного массива это наблюдение отличается не очень радикально."
      ]
    },
    {
      "cell_type": "markdown",
      "metadata": {
        "id": "_U8_QSxUo1Ss"
      },
      "source": [
        "Немного доработаем диаграмму:"
      ]
    },
    {
      "cell_type": "code",
      "execution_count": 11,
      "metadata": {
        "colab": {
          "base_uri": "https://localhost:8080/",
          "height": 499
        },
        "id": "ffqcBoACo1Ss",
        "outputId": "e9c229f9-0fa4-48fb-da26-961babbb4eae"
      },
      "outputs": [
        {
          "output_type": "display_data",
          "data": {
            "text/plain": [
              "<Figure size 1600x900 with 1 Axes>"
            ],
            "image/png": "[encoded data removed]"
          },
          "metadata": {}
        }
      ],
      "source": [
        "# figsize = (16, 9): размер картинки 16 на 9 дюймов\n",
        "# color: цвет точек\n",
        "\n",
        "flats.plot.scatter(x = \"livesp\", y = \"price\",\n",
        "                   figsize = (16, 9),\n",
        "                   color = \"darkblue\");"
      ]
    },
    {
      "cell_type": "markdown",
      "metadata": {
        "id": "US2rjcJMo1Ss"
      },
      "source": [
        "При желании можем сделать цвет точек зависимым от какого-то третьего показателя, например, от расстояния до центра, и задействовать при этом какую-нибудь готовую цветовую палитру (ознакомиться с набором палитр можно [здесь](https://matplotlib.org/stable/users/explain/colors/colormaps.html)):"
      ]
    },
    {
      "cell_type": "code",
      "execution_count": 12,
      "metadata": {
        "colab": {
          "base_uri": "https://localhost:8080/",
          "height": 540
        },
        "id": "7056BBSto1St",
        "outputId": "68619c55-0037-40c5-89eb-7a4f070e636d"
      },
      "outputs": [
        {
          "output_type": "display_data",
          "data": {
            "text/plain": [
              "<Figure size 1600x900 with 2 Axes>"
            ],
            "image/png": "[encoded data removed]"
          },
          "metadata": {}
        }
      ],
      "source": [
        "# c: категория, от которой зависит цвет\n",
        "# colormap: название палитры для цвета точек\n",
        "\n",
        "flats.plot.scatter(x = \"livesp\", y = \"price\",\n",
        "                   figsize = (16, 9),\n",
        "                   c = \"dist\",\n",
        "                   colormap = \"inferno\");"
      ]
    },
    {
      "cell_type": "markdown",
      "metadata": {
        "id": "_axGcwzro1St"
      },
      "source": [
        "Перейдем к коэффициентам корреляции. Сначала вычислим **коэффициент корреляции Пирсона** и сразу проверим его значимость:"
      ]
    },
    {
      "cell_type": "code",
      "execution_count": 13,
      "metadata": {
        "colab": {
          "base_uri": "https://localhost:8080/"
        },
        "id": "xnvdFTc4o1St",
        "outputId": "726a7034-56b0-4b66-cfe7-52d480c93b26"
      },
      "outputs": [
        {
          "output_type": "execute_result",
          "data": {
            "text/plain": [
              "PearsonRResult(statistic=0.7296136021085436, pvalue=0.0)"
            ]
          },
          "metadata": {},
          "execution_count": 13
        }
      ],
      "source": [
        "# функция pearsonr()\n",
        "# на вход подаем два столбца/массива\n",
        "\n",
        "st.pearsonr(flats[\"livesp\"], flats[\"price\"])"
      ]
    },
    {
      "cell_type": "markdown",
      "metadata": {
        "id": "r5RPtDj1o1St"
      },
      "source": [
        "Итак, гипотезы:\n",
        "\n",
        "$$\n",
        "H_0: R = 0 \\text{ (линейной связи нет)}\n",
        "$$\n",
        "$$\n",
        "H_1: R \\ne 0 \\text{ (линейная связь есть)}\n",
        "$$\n",
        "\n",
        "Функция возвращает нам два значение, первое – это сам **коэффициент корреляции Пирсона**, второе – p-value как результат проверки гипотезы об отсутствии связи. Коэффициент корреляции здесь 0.73, что говорит:\n",
        "\n",
        "* о прямой связи (коэффициент положительный), то есть с увеличением площади цена квартиры растет;\n",
        "* о средней связи, близкой к сильной (нет соглашения, кто-то с 0.8 считает сильной, кто-то с 0.7).\n",
        "\n",
        "Так как **p-value** здесь 0, нулевую гипотезу об отсутствии связи мы отвергаем, связь есть."
      ]
    },
    {
      "cell_type": "markdown",
      "metadata": {
        "id": "KU_3Vslxo1St"
      },
      "source": [
        "Теперь посмотрим на **коэффициент корреляции Спирмена** – здесь актуально, так как есть наблюдение, похожее на потенциальный выброс:"
      ]
    },
    {
      "cell_type": "code",
      "execution_count": 14,
      "metadata": {
        "colab": {
          "base_uri": "https://localhost:8080/"
        },
        "id": "gB8zqxwAo1St",
        "outputId": "0036a2eb-63a1-451f-ef45-5d15223c57e6"
      },
      "outputs": [
        {
          "output_type": "execute_result",
          "data": {
            "text/plain": [
              "SignificanceResult(statistic=0.6719528164535414, pvalue=4.2078927692311706e-268)"
            ]
          },
          "metadata": {},
          "execution_count": 14
        }
      ],
      "source": [
        "# функция spearmanr()\n",
        "# на вход подаем два столбца/массива\n",
        "\n",
        "st.spearmanr(flats[\"livesp\"], flats[\"price\"])"
      ]
    },
    {
      "cell_type": "markdown",
      "metadata": {
        "id": "lr4_vK-Qo1St"
      },
      "source": [
        "В целом, история похожая, тоже тестируется гипотеза об отсутствии связи, только линейная связь уже не упоминается, это коэффициент, работающий с рангами наблюдений:\n",
        "\n",
        "$$\n",
        "H_0: \\text{ связи нет, признаки независимы}\n",
        "$$\n",
        "$$\n",
        "H_1: \\text{ связь есть, признаки не независимы}\n",
        "$$\n",
        "\n",
        "P-value здесь почти 0, гипотеза вновь отвергается, но коэффициент Спирмена чуть ниже коэффициента Пирсона, он не так сильно реагирует на ту нехарактерную точку, которая «перетягивает» облако точек на себя, заставляя считать наклон облака рассеяния более крутым, чем есть на самом деле без учета этой точки."
      ]
    },
    {
      "cell_type": "markdown",
      "metadata": {
        "id": "SwujHsqIo1Su"
      },
      "source": [
        "Попробуем выкинуть нехарактерное наблюдение – квартиру с очень высокой ценой и такой же высокой площадью:"
      ]
    },
    {
      "cell_type": "code",
      "execution_count": 15,
      "metadata": {
        "id": "upctBgclo1Su"
      },
      "outputs": [],
      "source": [
        "# отбираем строки с price < 700\n",
        "# flats[\"price\"] < 700 дает набор из True и False,\n",
        "# условие проверяется для каждой ячейки в столбце,\n",
        "# затем отбирает те строки, где вернулось True\n",
        "\n",
        "flats_new = flats[flats[\"price\"] < 700]"
      ]
    },
    {
      "cell_type": "markdown",
      "metadata": {
        "id": "Cte9OWe5o1Su"
      },
      "source": [
        "И пересчитать коэффициенты:"
      ]
    },
    {
      "cell_type": "code",
      "execution_count": 16,
      "metadata": {
        "colab": {
          "base_uri": "https://localhost:8080/"
        },
        "id": "I8hKA67uo1Su",
        "outputId": "4bead3dc-9d2a-4715-94f4-36d1341c0598"
      },
      "outputs": [
        {
          "output_type": "execute_result",
          "data": {
            "text/plain": [
              "PearsonRResult(statistic=0.7223104192359445, pvalue=0.0)"
            ]
          },
          "metadata": {},
          "execution_count": 16
        }
      ],
      "source": [
        "st.pearsonr(flats_new[\"livesp\"], flats_new[\"price\"])"
      ]
    },
    {
      "cell_type": "code",
      "execution_count": 17,
      "metadata": {
        "colab": {
          "base_uri": "https://localhost:8080/"
        },
        "id": "x79GBNzzo1Su",
        "outputId": "70e45c96-45d9-4d38-d811-194fce96b5a2"
      },
      "outputs": [
        {
          "output_type": "execute_result",
          "data": {
            "text/plain": [
              "SignificanceResult(statistic=0.6714685038672935, pvalue=1.9024218545550169e-267)"
            ]
          },
          "metadata": {},
          "execution_count": 17
        }
      ],
      "source": [
        "st.spearmanr(flats_new[\"livesp\"], flats_new[\"price\"])"
      ]
    },
    {
      "cell_type": "markdown",
      "metadata": {
        "id": "8bt9sMCno1Sv"
      },
      "source": [
        "В нашем случае изменений не наблюдается, все-таки это не совсем типичное наблюдение оказалось не таким влиятельным."
      ]
    }
  ],
  "metadata": {
    "kernelspec": {
      "display_name": "Python 3",
      "language": "python",
      "name": "python3"
    },
    "language_info": {
      "codemirror_mode": {
        "name": "ipython",
        "version": 3
      },
      "file_extension": ".py",
      "mimetype": "text/x-python",
      "name": "python",
      "nbconvert_exporter": "python",
      "pygments_lexer": "ipython3",
      "version": "3.7.4"
    },
    "colab": {
      "provenance": []
    }
  },
  "nbformat": 4,
  "nbformat_minor": 0
}