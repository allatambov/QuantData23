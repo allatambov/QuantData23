{
 "cells": [
  {
   "cell_type": "markdown",
   "metadata": {},
   "source": [
    "# Основы работы с количественными данными\n",
    "\n",
    "*Алла Тамбовцева*\n",
    "\n",
    "## Практикум 2. Работа с массивами и датафреймами `pandas`\n"
   ]
  },
  {
   "cell_type": "markdown",
   "metadata": {},
   "source": [
    "## Теория: проверка условий в Python\n",
    "\n",
    "Сохраним в переменные `a`, `b` и `c` числа 5, 5 и 20:"
   ]
  },
  {
   "cell_type": "code",
   "execution_count": 1,
   "metadata": {},
   "outputs": [],
   "source": [
    "a = 5\n",
    "b = 5\n",
    "c = 20"
   ]
  },
  {
   "cell_type": "markdown",
   "metadata": {},
   "source": [
    "Проверим простое условие – правда ли, что `a` меньше `c`:"
   ]
  },
  {
   "cell_type": "code",
   "execution_count": 2,
   "metadata": {},
   "outputs": [
    {
     "data": {
      "text/plain": [
       "True"
      ]
     },
     "execution_count": 2,
     "metadata": {},
     "output_type": "execute_result"
    }
   ],
   "source": [
    "a < c"
   ]
  },
  {
   "cell_type": "markdown",
   "metadata": {},
   "source": [
    "А теперь – правда ли, что `a` не меньше `b`:"
   ]
  },
  {
   "cell_type": "code",
   "execution_count": 3,
   "metadata": {},
   "outputs": [
    {
     "data": {
      "text/plain": [
       "True"
      ]
     },
     "execution_count": 3,
     "metadata": {},
     "output_type": "execute_result"
    }
   ],
   "source": [
    "a >= b"
   ]
  },
  {
   "cell_type": "markdown",
   "metadata": {},
   "source": [
    "По аналогии можем проверить и другие довольно привычные условия:"
   ]
  },
  {
   "cell_type": "code",
   "execution_count": 4,
   "metadata": {},
   "outputs": [
    {
     "data": {
      "text/plain": [
       "False"
      ]
     },
     "execution_count": 4,
     "metadata": {},
     "output_type": "execute_result"
    }
   ],
   "source": [
    "a > b"
   ]
  },
  {
   "cell_type": "code",
   "execution_count": 5,
   "metadata": {},
   "outputs": [
    {
     "data": {
      "text/plain": [
       "False"
      ]
     },
     "execution_count": 5,
     "metadata": {},
     "output_type": "execute_result"
    }
   ],
   "source": [
    "c <= b"
   ]
  },
  {
   "cell_type": "markdown",
   "metadata": {},
   "source": [
    "Сравним значения `a` и `b`, проверив их равенство:"
   ]
  },
  {
   "cell_type": "code",
   "execution_count": 6,
   "metadata": {},
   "outputs": [
    {
     "data": {
      "text/plain": [
       "True"
      ]
     },
     "execution_count": 6,
     "metadata": {},
     "output_type": "execute_result"
    }
   ],
   "source": [
    "a == b"
   ]
  },
  {
   "cell_type": "markdown",
   "metadata": {},
   "source": [
    "А теперь построим отрицание к равенству – проверим, правда ли, что `a` не равно `c`:"
   ]
  },
  {
   "cell_type": "code",
   "execution_count": 7,
   "metadata": {},
   "outputs": [
    {
     "data": {
      "text/plain": [
       "True"
      ]
     },
     "execution_count": 7,
     "metadata": {},
     "output_type": "execute_result"
    }
   ],
   "source": [
    "a != c"
   ]
  },
  {
   "cell_type": "markdown",
   "metadata": {},
   "source": [
    "Итак, с основными условиями мы познакомились, теперь давайте посмотрим, как их объединять.\n",
    "\n",
    "Если условия должны выполняться **одновременно**, то их можно объединить с помощью оператора `&` (оператор AND). Проверим, правда ли, что `a` равно `b` и одновременно меньше `c`:"
   ]
  },
  {
   "cell_type": "code",
   "execution_count": 8,
   "metadata": {},
   "outputs": [
    {
     "data": {
      "text/plain": [
       "True"
      ]
     },
     "execution_count": 8,
     "metadata": {},
     "output_type": "execute_result"
    }
   ],
   "source": [
    "# первое True, второе True -> все True\n",
    "\n",
    "(a == b) & (a < c)"
   ]
  },
  {
   "cell_type": "markdown",
   "metadata": {},
   "source": [
    "Если хотя бы одно из условий не выполняется, проверка их совместного выполнения вернёт `False`:"
   ]
  },
  {
   "cell_type": "code",
   "execution_count": 9,
   "metadata": {},
   "outputs": [
    {
     "data": {
      "text/plain": [
       "False"
      ]
     },
     "execution_count": 9,
     "metadata": {},
     "output_type": "execute_result"
    }
   ],
   "source": [
    "# первое True, второе False -> все False\n",
    "\n",
    "(a > c) & (a < c)"
   ]
  },
  {
   "cell_type": "markdown",
   "metadata": {},
   "source": [
    "Если должно выполняться **хотя бы одно** условие из двух, их можно объединить с помощью оператора `|` (оператор OR). Проверим, правда ли, что хотя бы одно верно: или `a` меньше `b`, или `a` меньше `c`:"
   ]
  },
  {
   "cell_type": "code",
   "execution_count": 10,
   "metadata": {},
   "outputs": [
    {
     "data": {
      "text/plain": [
       "True"
      ]
     },
     "execution_count": 10,
     "metadata": {},
     "output_type": "execute_result"
    }
   ],
   "source": [
    "# первое False, второе True -> все True\n",
    "\n",
    "(a < b) | (a < c) "
   ]
  },
  {
   "cell_type": "markdown",
   "metadata": {},
   "source": [
    "Так как «хотя бы одно верно» расшифровывается как «одно верно» или «оба верны», в случае, если выполняются оба условия, выражение с `|` тоже возвращает `True`:"
   ]
  },
  {
   "cell_type": "code",
   "execution_count": 11,
   "metadata": {},
   "outputs": [
    {
     "data": {
      "text/plain": [
       "True"
      ]
     },
     "execution_count": 11,
     "metadata": {},
     "output_type": "execute_result"
    }
   ],
   "source": [
    "# первое True, второе True -> все True\n",
    "\n",
    "(a < b) | (a < c) "
   ]
  },
  {
   "cell_type": "markdown",
   "metadata": {},
   "source": [
    "Как проверять условия для одиночных значений, мы разобрали. Остаётся вопрос: а как делать это для массивов? Попробуем создать массив и проверить какие-нибудь условия!\n",
    "\n",
    "Создадим массив `times`, который содержит выборку значений времени в минутах, которое жители Москвы тратят на дорогу до работы:"
   ]
  },
  {
   "cell_type": "code",
   "execution_count": 12,
   "metadata": {},
   "outputs": [],
   "source": [
    "import numpy as np"
   ]
  },
  {
   "cell_type": "code",
   "execution_count": 13,
   "metadata": {},
   "outputs": [],
   "source": [
    "times = np.array([40, 50, 120, 55, 32, 20, 100, 150, 60, 60, 70, \n",
    "          50, 40, 30, 120, 130, 90, 90, 40, 50, 45, 35])"
   ]
  },
  {
   "cell_type": "markdown",
   "metadata": {},
   "source": [
    "Попробуем выбрать из массива значения больше 60:"
   ]
  },
  {
   "cell_type": "code",
   "execution_count": 14,
   "metadata": {},
   "outputs": [
    {
     "data": {
      "text/plain": [
       "array([False, False,  True, False, False, False,  True,  True, False,\n",
       "       False,  True, False, False, False,  True,  True,  True,  True,\n",
       "       False, False, False, False])"
      ]
     },
     "execution_count": 14,
     "metadata": {},
     "output_type": "execute_result"
    }
   ],
   "source": [
    "times > 60"
   ]
  },
  {
   "cell_type": "markdown",
   "metadata": {},
   "source": [
    "Что произошло? Python честно проверил выполнение условия для каждого значения в массиве и вернул набор из `True ` и `False`. Чтобы выбрать значения, которые удовлетворяют сформулированному условию (то есть те, на которых условие выше вернуло `True`), нужно поместить условие в квадратные скобки после названия массива – так работает фильтрация:"
   ]
  },
  {
   "cell_type": "code",
   "execution_count": 15,
   "metadata": {},
   "outputs": [
    {
     "data": {
      "text/plain": [
       "array([120, 100, 150,  70, 120, 130,  90,  90])"
      ]
     },
     "execution_count": 15,
     "metadata": {},
     "output_type": "execute_result"
    }
   ],
   "source": [
    "times[times > 60]"
   ]
  },
  {
   "cell_type": "markdown",
   "metadata": {},
   "source": [
    "Сформулируем условие посложнее – выберем элементы, которые одновременно не меньше 60 и не больше 90:"
   ]
  },
  {
   "cell_type": "code",
   "execution_count": 16,
   "metadata": {},
   "outputs": [
    {
     "data": {
      "text/plain": [
       "array([60, 60, 70, 90, 90])"
      ]
     },
     "execution_count": 16,
     "metadata": {},
     "output_type": "execute_result"
    }
   ],
   "source": [
    "times[(times >= 60) & (times <= 90)]"
   ]
  },
  {
   "cell_type": "markdown",
   "metadata": {},
   "source": [
    "Как посчитать число элементов, которые удовлетворяют какому-то условию? Можно вызвать атрибут `.size`:"
   ]
  },
  {
   "cell_type": "code",
   "execution_count": 17,
   "metadata": {},
   "outputs": [
    {
     "data": {
      "text/plain": [
       "5"
      ]
     },
     "execution_count": 17,
     "metadata": {},
     "output_type": "execute_result"
    }
   ],
   "source": [
    "chosen = times[(times >= 60) & (times <= 90)]\n",
    "chosen.size"
   ]
  },
  {
   "cell_type": "code",
   "execution_count": 18,
   "metadata": {},
   "outputs": [
    {
     "data": {
      "text/plain": [
       "5"
      ]
     },
     "execution_count": 18,
     "metadata": {},
     "output_type": "execute_result"
    }
   ],
   "source": [
    "# или сразу так\n",
    "\n",
    "times[(times >= 60) & (times <= 90)].size"
   ]
  },
  {
   "cell_type": "markdown",
   "metadata": {},
   "source": [
    "## Часть 1: работа с массивом\n",
    "\n",
    "В массиве `pumpkins` сохранены значения веса тыкв (в килограммах), которые выращивает Хагрид для украшения Хогвартса к Хэллоуину:"
   ]
  },
  {
   "cell_type": "code",
   "execution_count": 19,
   "metadata": {},
   "outputs": [],
   "source": [
    "pumpkins = np.array([305, 306, 380, 450, 505, 499, 20, 350, 600, 540, 320, \n",
    "                    340, 375, 355, 480, 500, 520, 523, 610, 302, 304, 314, 15])"
   ]
  },
  {
   "cell_type": "markdown",
   "metadata": {},
   "source": [
    "### Задача 1\n",
    "\n",
    "Найдите минимальное и максимальное значение выборки, вычислите размах."
   ]
  },
  {
   "cell_type": "code",
   "execution_count": 20,
   "metadata": {},
   "outputs": [
    {
     "data": {
      "text/plain": [
       "15"
      ]
     },
     "execution_count": 20,
     "metadata": {},
     "output_type": "execute_result"
    }
   ],
   "source": [
    "np.min(pumpkins)"
   ]
  },
  {
   "cell_type": "code",
   "execution_count": 21,
   "metadata": {},
   "outputs": [
    {
     "data": {
      "text/plain": [
       "610"
      ]
     },
     "execution_count": 21,
     "metadata": {},
     "output_type": "execute_result"
    }
   ],
   "source": [
    "np.max(pumpkins)"
   ]
  },
  {
   "cell_type": "markdown",
   "metadata": {},
   "source": [
    "### Задача 2\n",
    "\n",
    "Найдите выборочное среднее и выборочную медиану."
   ]
  },
  {
   "cell_type": "code",
   "execution_count": 22,
   "metadata": {},
   "outputs": [
    {
     "data": {
      "text/plain": [
       "387.5217391304348"
      ]
     },
     "execution_count": 22,
     "metadata": {},
     "output_type": "execute_result"
    }
   ],
   "source": [
    "np.mean(pumpkins)"
   ]
  },
  {
   "cell_type": "code",
   "execution_count": 23,
   "metadata": {},
   "outputs": [
    {
     "data": {
      "text/plain": [
       "375.0"
      ]
     },
     "execution_count": 23,
     "metadata": {},
     "output_type": "execute_result"
    }
   ],
   "source": [
    "np.median(pumpkins)"
   ]
  },
  {
   "cell_type": "markdown",
   "metadata": {},
   "source": [
    "### Задача 3\n",
    "\n",
    "Найдите нижний и верхний квартили, сохраните их в переменные `q1` и `q3` соответственно."
   ]
  },
  {
   "cell_type": "code",
   "execution_count": 24,
   "metadata": {},
   "outputs": [
    {
     "name": "stdout",
     "output_type": "stream",
     "text": [
      "310.0 502.5\n"
     ]
    }
   ],
   "source": [
    "q1 = np.quantile(pumpkins, 0.25)\n",
    "q3 = np.quantile(pumpkins, 0.75)\n",
    "print(q1, q3)"
   ]
  },
  {
   "cell_type": "markdown",
   "metadata": {},
   "source": [
    "###  Задача 4\n",
    "\n",
    "Используя результаты предыдущей задачи, вычислите межквартильный размах и сохраните его в переменную `iq`."
   ]
  },
  {
   "cell_type": "code",
   "execution_count": 25,
   "metadata": {},
   "outputs": [
    {
     "name": "stdout",
     "output_type": "stream",
     "text": [
      "192.5\n"
     ]
    }
   ],
   "source": [
    "iq = q3 - q1\n",
    "print(iq)"
   ]
  },
  {
   "cell_type": "markdown",
   "metadata": {},
   "source": [
    "### Задача 5\n",
    "\n",
    "Вычислите нижнюю и верхнюю границу типичных значений и сохраните их в переменные `lower` и `upper` соответственно."
   ]
  },
  {
   "cell_type": "code",
   "execution_count": 26,
   "metadata": {},
   "outputs": [
    {
     "name": "stdout",
     "output_type": "stream",
     "text": [
      "21.25 791.25\n"
     ]
    }
   ],
   "source": [
    "lower = q1 - 1.5 * iq\n",
    "upper = q3 + 1.5 * iq\n",
    "print(lower, upper)"
   ]
  },
  {
   "cell_type": "markdown",
   "metadata": {},
   "source": [
    "### Задача 6\n",
    "\n",
    "Определите, есть ли в массиве нетипичные наблюдения, то есть выберите те значения массива, которые не входят в интервал между `lower` и `upper`, посчитанными ранее. Если такие наблюдения есть, посчитайте их количество."
   ]
  },
  {
   "cell_type": "code",
   "execution_count": 27,
   "metadata": {},
   "outputs": [
    {
     "data": {
      "text/plain": [
       "array([20, 15])"
      ]
     },
     "execution_count": 27,
     "metadata": {},
     "output_type": "execute_result"
    }
   ],
   "source": [
    "pumpkins[(pumpkins < lower) | (pumpkins > upper)]"
   ]
  },
  {
   "cell_type": "code",
   "execution_count": 28,
   "metadata": {},
   "outputs": [
    {
     "data": {
      "text/plain": [
       "2"
      ]
     },
     "execution_count": 28,
     "metadata": {},
     "output_type": "execute_result"
    }
   ],
   "source": [
    "pumpkins[(pumpkins < lower) | (pumpkins > upper)].size"
   ]
  },
  {
   "cell_type": "markdown",
   "metadata": {},
   "source": [
    "## Часть 2: работа с реальными данными"
   ]
  },
  {
   "cell_type": "markdown",
   "metadata": {},
   "source": [
    "В этом практикуме мы будем работать с данными по ценам на квартиры в Москве из файла `flats.csv`. \n",
    "\n",
    "Переменные в файле: \n",
    "\n",
    "* `price`: цена квартиры, в тысячах долларов;\n",
    "* `totsp`: общая площадь, в кв.метрах;\n",
    "* `livesp`: жилая площадь, в кв.метрах;\n",
    "* `kitsp`: площадь кухни, в кв.метрах;\n",
    "* `dist`: расстояние до центра города, в км;\n",
    "* `metrdist`: расстояние до метро, в мин;\n",
    "* `walk`: шаговая доступность до метро, 0 или 1;\n",
    "* `brick`: дом из кирпича или аналогичного «капитального» материала, 0 или 1; \n",
    "* `floor`: удобный ли этаж (не первый и последний), 0 или 1.\n",
    "\n",
    "Для работы с данными, сохраненными в формате CSV или Excel, нам понадобится ещё одна библиотека – библиотека `pandas`. Импортируем её по аналогии с `numpy` с сокращённым названием `pd`:"
   ]
  },
  {
   "cell_type": "code",
   "execution_count": 29,
   "metadata": {},
   "outputs": [],
   "source": [
    "import pandas as pd"
   ]
  },
  {
   "cell_type": "markdown",
   "metadata": {},
   "source": [
    "Загрузим сам файл с данными в Google Colab или Jupyter Notebook. \n",
    "\n",
    "**Пояснение для Google Colab.** Загрузить файл с данными в облачное хранилище можно через кнопку *Files* (значок папки слева от рабочей области с ячейками), при нажатии на которую появляется возможность выбрать файл с компьютера (значок стрелки). После добавления файла его можно выбрать, кликнуть на три точки справа от названия, скопировать путь через *Copy path* и вставить его в функцию `read_csv()` для чтения CSV-файла. Например:\n",
    "\n",
    "    df = pd.read_csv(\"/content/flats.csv\")\n",
    "    \n",
    "**Пояснение для Jupyter Notebook.** Удобно, если файл с данными при работе лежит в той же папке, что и текущий ipynb-файл, в котором мы запускаем код, так не придется полностью прописывать к нему путь, достаточно одного названия с расширением. Загрузить файл с данными в Jupyter можно через *Upload* на *Home Page* (по аналогии с загрузкой ipynb-файлов). После добавления файла его название с расширением можно вставить в функцию `read_csv()` для чтения CSV-файла. Например:\n",
    "\n",
    "    df = pd.read_csv(\"flats.csv\")"
   ]
  },
  {
   "cell_type": "markdown",
   "metadata": {},
   "source": [
    "Загрузим данные из файла `flats.csv` и сохраним их в таблицу – **датафрейм** `df`. Но сначала загрузим файл с данными в Google Colab."
   ]
  },
  {
   "cell_type": "code",
   "execution_count": 30,
   "metadata": {},
   "outputs": [],
   "source": [
    "df = pd.read_csv(\"/content/flats.csv\") # в Jupyter просто df = pd.read_csv(\"flats.csv\")"
   ]
  },
  {
   "cell_type": "markdown",
   "metadata": {},
   "source": [
    "Посмотрим на датафрейм:"
   ]
  },
  {
   "cell_type": "code",
   "execution_count": 31,
   "metadata": {},
   "outputs": [
    {
     "data": {
      "text/html": [
       "<div>\n",
       "<style scoped>\n",
       "    .dataframe tbody tr th:only-of-type {\n",
       "        vertical-align: middle;\n",
       "    }\n",
       "\n",
       "    .dataframe tbody tr th {\n",
       "        vertical-align: top;\n",
       "    }\n",
       "\n",
       "    .dataframe thead th {\n",
       "        text-align: right;\n",
       "    }\n",
       "</style>\n",
       "<table border=\"1\" class=\"dataframe\">\n",
       "  <thead>\n",
       "    <tr style=\"text-align: right;\">\n",
       "      <th></th>\n",
       "      <th>price</th>\n",
       "      <th>totsp</th>\n",
       "      <th>livesp</th>\n",
       "      <th>kitsp</th>\n",
       "      <th>dist</th>\n",
       "      <th>metrdist</th>\n",
       "      <th>walk</th>\n",
       "      <th>brick</th>\n",
       "      <th>floor</th>\n",
       "    </tr>\n",
       "  </thead>\n",
       "  <tbody>\n",
       "    <tr>\n",
       "      <th>0</th>\n",
       "      <td>730</td>\n",
       "      <td>134</td>\n",
       "      <td>102</td>\n",
       "      <td>10.0</td>\n",
       "      <td>9.0</td>\n",
       "      <td>10</td>\n",
       "      <td>1</td>\n",
       "      <td>1</td>\n",
       "      <td>1</td>\n",
       "    </tr>\n",
       "    <tr>\n",
       "      <th>1</th>\n",
       "      <td>477</td>\n",
       "      <td>119</td>\n",
       "      <td>93</td>\n",
       "      <td>15.0</td>\n",
       "      <td>9.0</td>\n",
       "      <td>1</td>\n",
       "      <td>1</td>\n",
       "      <td>0</td>\n",
       "      <td>1</td>\n",
       "    </tr>\n",
       "    <tr>\n",
       "      <th>2</th>\n",
       "      <td>350</td>\n",
       "      <td>80</td>\n",
       "      <td>44</td>\n",
       "      <td>14.0</td>\n",
       "      <td>10.5</td>\n",
       "      <td>10</td>\n",
       "      <td>1</td>\n",
       "      <td>1</td>\n",
       "      <td>0</td>\n",
       "    </tr>\n",
       "    <tr>\n",
       "      <th>3</th>\n",
       "      <td>410</td>\n",
       "      <td>102</td>\n",
       "      <td>75</td>\n",
       "      <td>10.0</td>\n",
       "      <td>6.5</td>\n",
       "      <td>5</td>\n",
       "      <td>1</td>\n",
       "      <td>1</td>\n",
       "      <td>1</td>\n",
       "    </tr>\n",
       "    <tr>\n",
       "      <th>4</th>\n",
       "      <td>50</td>\n",
       "      <td>63</td>\n",
       "      <td>47</td>\n",
       "      <td>7.0</td>\n",
       "      <td>12.0</td>\n",
       "      <td>20</td>\n",
       "      <td>0</td>\n",
       "      <td>1</td>\n",
       "      <td>0</td>\n",
       "    </tr>\n",
       "    <tr>\n",
       "      <th>...</th>\n",
       "      <td>...</td>\n",
       "      <td>...</td>\n",
       "      <td>...</td>\n",
       "      <td>...</td>\n",
       "      <td>...</td>\n",
       "      <td>...</td>\n",
       "      <td>...</td>\n",
       "      <td>...</td>\n",
       "      <td>...</td>\n",
       "    </tr>\n",
       "    <tr>\n",
       "      <th>2035</th>\n",
       "      <td>117</td>\n",
       "      <td>76</td>\n",
       "      <td>43</td>\n",
       "      <td>10.0</td>\n",
       "      <td>12.0</td>\n",
       "      <td>5</td>\n",
       "      <td>1</td>\n",
       "      <td>0</td>\n",
       "      <td>1</td>\n",
       "    </tr>\n",
       "    <tr>\n",
       "      <th>2036</th>\n",
       "      <td>91</td>\n",
       "      <td>60</td>\n",
       "      <td>44</td>\n",
       "      <td>6.0</td>\n",
       "      <td>14.5</td>\n",
       "      <td>7</td>\n",
       "      <td>1</td>\n",
       "      <td>0</td>\n",
       "      <td>1</td>\n",
       "    </tr>\n",
       "    <tr>\n",
       "      <th>2037</th>\n",
       "      <td>94</td>\n",
       "      <td>65</td>\n",
       "      <td>40</td>\n",
       "      <td>8.0</td>\n",
       "      <td>14.5</td>\n",
       "      <td>15</td>\n",
       "      <td>1</td>\n",
       "      <td>0</td>\n",
       "      <td>1</td>\n",
       "    </tr>\n",
       "    <tr>\n",
       "      <th>2038</th>\n",
       "      <td>110</td>\n",
       "      <td>74</td>\n",
       "      <td>44</td>\n",
       "      <td>10.0</td>\n",
       "      <td>13.0</td>\n",
       "      <td>7</td>\n",
       "      <td>1</td>\n",
       "      <td>0</td>\n",
       "      <td>1</td>\n",
       "    </tr>\n",
       "    <tr>\n",
       "      <th>2039</th>\n",
       "      <td>90</td>\n",
       "      <td>61</td>\n",
       "      <td>43</td>\n",
       "      <td>6.0</td>\n",
       "      <td>14.5</td>\n",
       "      <td>10</td>\n",
       "      <td>1</td>\n",
       "      <td>0</td>\n",
       "      <td>1</td>\n",
       "    </tr>\n",
       "  </tbody>\n",
       "</table>\n",
       "<p>2040 rows × 9 columns</p>\n",
       "</div>"
      ],
      "text/plain": [
       "      price  totsp  livesp  kitsp  dist  metrdist  walk  brick  floor\n",
       "0       730    134     102   10.0   9.0        10     1      1      1\n",
       "1       477    119      93   15.0   9.0         1     1      0      1\n",
       "2       350     80      44   14.0  10.5        10     1      1      0\n",
       "3       410    102      75   10.0   6.5         5     1      1      1\n",
       "4        50     63      47    7.0  12.0        20     0      1      0\n",
       "...     ...    ...     ...    ...   ...       ...   ...    ...    ...\n",
       "2035    117     76      43   10.0  12.0         5     1      0      1\n",
       "2036     91     60      44    6.0  14.5         7     1      0      1\n",
       "2037     94     65      40    8.0  14.5        15     1      0      1\n",
       "2038    110     74      44   10.0  13.0         7     1      0      1\n",
       "2039     90     61      43    6.0  14.5        10     1      0      1\n",
       "\n",
       "[2040 rows x 9 columns]"
      ]
     },
     "execution_count": 31,
     "metadata": {},
     "output_type": "execute_result"
    }
   ],
   "source": [
    "df"
   ]
  },
  {
   "cell_type": "markdown",
   "metadata": {},
   "source": [
    "Посмотрим на переменные и проверим, что все переменные корректных типов (например, числа считаны как числа, а не как текст):"
   ]
  },
  {
   "cell_type": "code",
   "execution_count": 32,
   "metadata": {},
   "outputs": [
    {
     "name": "stdout",
     "output_type": "stream",
     "text": [
      "<class 'pandas.core.frame.DataFrame'>\n",
      "RangeIndex: 2040 entries, 0 to 2039\n",
      "Data columns (total 9 columns):\n",
      " #   Column    Non-Null Count  Dtype  \n",
      "---  ------    --------------  -----  \n",
      " 0   price     2040 non-null   int64  \n",
      " 1   totsp     2040 non-null   int64  \n",
      " 2   livesp    2040 non-null   int64  \n",
      " 3   kitsp     2040 non-null   float64\n",
      " 4   dist      2040 non-null   float64\n",
      " 5   metrdist  2040 non-null   int64  \n",
      " 6   walk      2040 non-null   int64  \n",
      " 7   brick     2040 non-null   int64  \n",
      " 8   floor     2040 non-null   int64  \n",
      "dtypes: float64(2), int64(7)\n",
      "memory usage: 143.6 KB\n"
     ]
    }
   ],
   "source": [
    "df.info()"
   ]
  },
  {
   "cell_type": "markdown",
   "metadata": {},
   "source": [
    "Примечания: \n",
    "\n",
    "* `Non-Null Count`: число заполненных – не пустых (`null`) – ячеек в столбце;\n",
    "* `Dtype`: тип столбца; тип `int` — целочисленный (*integer*), тип `float` — вещественный, может включать в себя как дробные, так и целочисленные значения."
   ]
  },
  {
   "cell_type": "markdown",
   "metadata": {},
   "source": [
    "Посмотрим на описательные статистики по всем столбцам:"
   ]
  },
  {
   "cell_type": "code",
   "execution_count": 33,
   "metadata": {},
   "outputs": [
    {
     "data": {
      "text/html": [
       "<div>\n",
       "<style scoped>\n",
       "    .dataframe tbody tr th:only-of-type {\n",
       "        vertical-align: middle;\n",
       "    }\n",
       "\n",
       "    .dataframe tbody tr th {\n",
       "        vertical-align: top;\n",
       "    }\n",
       "\n",
       "    .dataframe thead th {\n",
       "        text-align: right;\n",
       "    }\n",
       "</style>\n",
       "<table border=\"1\" class=\"dataframe\">\n",
       "  <thead>\n",
       "    <tr style=\"text-align: right;\">\n",
       "      <th></th>\n",
       "      <th>price</th>\n",
       "      <th>totsp</th>\n",
       "      <th>livesp</th>\n",
       "      <th>kitsp</th>\n",
       "      <th>dist</th>\n",
       "      <th>metrdist</th>\n",
       "      <th>walk</th>\n",
       "      <th>brick</th>\n",
       "      <th>floor</th>\n",
       "    </tr>\n",
       "  </thead>\n",
       "  <tbody>\n",
       "    <tr>\n",
       "      <th>count</th>\n",
       "      <td>2040.000000</td>\n",
       "      <td>2040.000000</td>\n",
       "      <td>2040.000000</td>\n",
       "      <td>2040.000000</td>\n",
       "      <td>2040.000000</td>\n",
       "      <td>2040.000000</td>\n",
       "      <td>2040.000000</td>\n",
       "      <td>2040.000000</td>\n",
       "      <td>2040.000000</td>\n",
       "    </tr>\n",
       "    <tr>\n",
       "      <th>mean</th>\n",
       "      <td>127.496569</td>\n",
       "      <td>73.084314</td>\n",
       "      <td>46.337255</td>\n",
       "      <td>8.898529</td>\n",
       "      <td>11.015686</td>\n",
       "      <td>8.117157</td>\n",
       "      <td>0.685784</td>\n",
       "      <td>0.323039</td>\n",
       "      <td>0.790686</td>\n",
       "    </tr>\n",
       "    <tr>\n",
       "      <th>std</th>\n",
       "      <td>51.878220</td>\n",
       "      <td>15.123450</td>\n",
       "      <td>7.894348</td>\n",
       "      <td>2.787073</td>\n",
       "      <td>3.375539</td>\n",
       "      <td>3.815574</td>\n",
       "      <td>0.464317</td>\n",
       "      <td>0.467752</td>\n",
       "      <td>0.406918</td>\n",
       "    </tr>\n",
       "    <tr>\n",
       "      <th>min</th>\n",
       "      <td>50.000000</td>\n",
       "      <td>44.000000</td>\n",
       "      <td>28.000000</td>\n",
       "      <td>5.000000</td>\n",
       "      <td>3.000000</td>\n",
       "      <td>1.000000</td>\n",
       "      <td>0.000000</td>\n",
       "      <td>0.000000</td>\n",
       "      <td>0.000000</td>\n",
       "    </tr>\n",
       "    <tr>\n",
       "      <th>25%</th>\n",
       "      <td>95.000000</td>\n",
       "      <td>62.000000</td>\n",
       "      <td>42.000000</td>\n",
       "      <td>7.000000</td>\n",
       "      <td>9.000000</td>\n",
       "      <td>5.000000</td>\n",
       "      <td>0.000000</td>\n",
       "      <td>0.000000</td>\n",
       "      <td>1.000000</td>\n",
       "    </tr>\n",
       "    <tr>\n",
       "      <th>50%</th>\n",
       "      <td>115.000000</td>\n",
       "      <td>73.500000</td>\n",
       "      <td>45.000000</td>\n",
       "      <td>9.000000</td>\n",
       "      <td>12.000000</td>\n",
       "      <td>7.000000</td>\n",
       "      <td>1.000000</td>\n",
       "      <td>0.000000</td>\n",
       "      <td>1.000000</td>\n",
       "    </tr>\n",
       "    <tr>\n",
       "      <th>75%</th>\n",
       "      <td>142.000000</td>\n",
       "      <td>79.000000</td>\n",
       "      <td>50.000000</td>\n",
       "      <td>10.000000</td>\n",
       "      <td>13.500000</td>\n",
       "      <td>10.000000</td>\n",
       "      <td>1.000000</td>\n",
       "      <td>1.000000</td>\n",
       "      <td>1.000000</td>\n",
       "    </tr>\n",
       "    <tr>\n",
       "      <th>max</th>\n",
       "      <td>730.000000</td>\n",
       "      <td>192.000000</td>\n",
       "      <td>102.000000</td>\n",
       "      <td>25.000000</td>\n",
       "      <td>17.000000</td>\n",
       "      <td>20.000000</td>\n",
       "      <td>1.000000</td>\n",
       "      <td>1.000000</td>\n",
       "      <td>1.000000</td>\n",
       "    </tr>\n",
       "  </tbody>\n",
       "</table>\n",
       "</div>"
      ],
      "text/plain": [
       "             price        totsp       livesp        kitsp         dist  \\\n",
       "count  2040.000000  2040.000000  2040.000000  2040.000000  2040.000000   \n",
       "mean    127.496569    73.084314    46.337255     8.898529    11.015686   \n",
       "std      51.878220    15.123450     7.894348     2.787073     3.375539   \n",
       "min      50.000000    44.000000    28.000000     5.000000     3.000000   \n",
       "25%      95.000000    62.000000    42.000000     7.000000     9.000000   \n",
       "50%     115.000000    73.500000    45.000000     9.000000    12.000000   \n",
       "75%     142.000000    79.000000    50.000000    10.000000    13.500000   \n",
       "max     730.000000   192.000000   102.000000    25.000000    17.000000   \n",
       "\n",
       "          metrdist         walk        brick        floor  \n",
       "count  2040.000000  2040.000000  2040.000000  2040.000000  \n",
       "mean      8.117157     0.685784     0.323039     0.790686  \n",
       "std       3.815574     0.464317     0.467752     0.406918  \n",
       "min       1.000000     0.000000     0.000000     0.000000  \n",
       "25%       5.000000     0.000000     0.000000     1.000000  \n",
       "50%       7.000000     1.000000     0.000000     1.000000  \n",
       "75%      10.000000     1.000000     1.000000     1.000000  \n",
       "max      20.000000     1.000000     1.000000     1.000000  "
      ]
     },
     "execution_count": 33,
     "metadata": {},
     "output_type": "execute_result"
    }
   ],
   "source": [
    "df.describe() # давайте проинтерпретируем"
   ]
  },
  {
   "cell_type": "markdown",
   "metadata": {},
   "source": [
    "> **Пояснения к выдаче:** \n",
    ">    \n",
    "* `count`: число заполненных – непустых – ячеек в столбце;\n",
    "* `mean`: среднее арифметическое;\n",
    "* `std`: стандартное отклонение;\n",
    "* `min`: минимум;\n",
    "* `max`: максимум;\n",
    "* `25%` : нижний квартиль;\n",
    "* `50%` : медиана;\n",
    "* `75%` : верхний квартиль."
   ]
  },
  {
   "cell_type": "markdown",
   "metadata": {},
   "source": [
    "Теперь обратимся к ценам на квартиры и запросим отдельно описательные статистики для них:"
   ]
  },
  {
   "cell_type": "code",
   "execution_count": 34,
   "metadata": {},
   "outputs": [
    {
     "data": {
      "text/plain": [
       "count    2040.000000\n",
       "mean      127.496569\n",
       "std        51.878220\n",
       "min        50.000000\n",
       "25%        95.000000\n",
       "50%       115.000000\n",
       "75%       142.000000\n",
       "max       730.000000\n",
       "Name: price, dtype: float64"
      ]
     },
     "execution_count": 34,
     "metadata": {},
     "output_type": "execute_result"
    }
   ],
   "source": [
    "# внимание на среднее и медиану\n",
    "# среднее > медианы -> сигнал, есть нетипично большие значения\n",
    "\n",
    "df[\"price\"].describe()"
   ]
  },
  {
   "cell_type": "markdown",
   "metadata": {},
   "source": [
    "> **Пояснения к коду:** для выбора столбца из датафрейма, который здесь называется`df`, нужно в квадратных скобках вписать его название в кавычках. А метод `.describe()` универсальный, его и ко всей таблице применить можно, и к отдельному столбцу."
   ]
  },
  {
   "cell_type": "markdown",
   "metadata": {},
   "source": [
    "Построим гистограмму для визуализации распределения цен:"
   ]
  },
  {
   "cell_type": "code",
   "execution_count": 36,
   "metadata": {},
   "outputs": [
    {
     "data": {
      "text/plain": [
       "array([[<matplotlib.axes._subplots.AxesSubplot object at 0x1239a5bd0>]],\n",
       "      dtype=object)"
      ]
     },
     "execution_count": 36,
     "metadata": {},
     "output_type": "execute_result"
    },
    {
     "data": {
      "image/png": "[encoded data removed]",
      "text/plain": [
       "<Figure size 432x288 with 1 Axes>"
      ]
     },
     "metadata": {
      "needs_background": "light"
     },
     "output_type": "display_data"
    }
   ],
   "source": [
    "# метод .hist()\n",
    "# color – цвет заливки\n",
    "# edgecolor – цвет границ столбцов\n",
    "\n",
    "df.hist(\"price\", color = \"cornflowerblue\", edgecolor = \"white\")"
   ]
  },
  {
   "cell_type": "markdown",
   "metadata": {},
   "source": [
    ">**Пояснения к коду:** метод `.hist()` строит гистограмму для какого-нибудь столбца датафрейма (в нашем случае он назван `df`), название этого столбца пишется на первом месте в круглых скобках в кавычках. Если не добавлять аргументы `color` и `edgecolor`, будут использоваться цвета по умолчанию. \n",
    ">\n",
    "> Список цветов можно найти в [официальной документации](https://matplotlib.org/stable/gallery/color/named_colors.html). Кроме того, можно выбрать любой свой цвет, например, [в палитре Google](https://g.co/kgs/N5K9og), а затем скопировать его код (например, `#c4296f`) и вставить на место названия цвета в кавычках. "
   ]
  },
  {
   "cell_type": "markdown",
   "metadata": {},
   "source": [
    "**Интерпретация графика:** распределение сильно скошено вправо; большинство цен на квартиры сосредоточены в районе 100 тысяч долларов, однако есть небольшое число нетипично дорогих квартир с ценами выше 300 тысяч."
   ]
  },
  {
   "cell_type": "markdown",
   "metadata": {},
   "source": [
    "Сравним среднее, медиану и моду:"
   ]
  },
  {
   "cell_type": "code",
   "execution_count": 37,
   "metadata": {},
   "outputs": [
    {
     "name": "stdout",
     "output_type": "stream",
     "text": [
      "127.49656862745098\n",
      "115.0\n",
      "0    110\n",
      "dtype: int64\n"
     ]
    }
   ],
   "source": [
    "print(df[\"price\"].mean())\n",
    "print(df[\"price\"].median())\n",
    "print(df[\"price\"].mode())"
   ]
  },
  {
   "cell_type": "markdown",
   "metadata": {},
   "source": [
    "**Интерпретация:** средняя цена квартиры равна 127.5 тысячам долларов, 50% квартир не дороже 115 тысяч долларов, самая частая цена квартиры – 110 тысяч долларов. Большая разница между средним и медианой тоже свидетельствует о скошенности распределения (вправо, среднее выше медианы), в данных есть нетипично большие значения."
   ]
  },
  {
   "cell_type": "markdown",
   "metadata": {},
   "source": [
    "Построим ящик с усами для того же показателя:"
   ]
  },
  {
   "cell_type": "code",
   "execution_count": 38,
   "metadata": {},
   "outputs": [
    {
     "data": {
      "text/plain": [
       "<matplotlib.axes._subplots.AxesSubplot at 0x123a56d50>"
      ]
     },
     "execution_count": 38,
     "metadata": {},
     "output_type": "execute_result"
    },
    {
     "data": {
      "image/png": "[encoded data removed]",
      "text/plain": [
       "<Figure size 432x288 with 1 Axes>"
      ]
     },
     "metadata": {
      "needs_background": "light"
     },
     "output_type": "display_data"
    }
   ],
   "source": [
    "df.boxplot(\"price\")"
   ]
  },
  {
   "cell_type": "markdown",
   "metadata": {},
   "source": [
    ">**Пояснения к коду:** с настройками цветов у ящиков с усами все сложнее, поэтому соглашаемся на базовые цвета и просто указываем в скобках название столбца, для которого строим ящик с усами."
   ]
  },
  {
   "cell_type": "markdown",
   "metadata": {},
   "source": [
    "**Интерпретация:** по графику явно видно, что в данных присутствует немало нетипично больших значений, нетипично маленьких при этом нет. Квартиры с ценой выше 200 тысяч долларов можно считать нетипично дорогими. Минимальная цена равна примерно 50 тысячам долларов, медианная – примерно 115 тысячам долларов. "
   ]
  },
  {
   "cell_type": "markdown",
   "metadata": {},
   "source": [
    "Проделаем то же для показателя `livesp` –  изучим распределение жилой площади квартир:"
   ]
  },
  {
   "cell_type": "code",
   "execution_count": 39,
   "metadata": {},
   "outputs": [
    {
     "data": {
      "text/plain": [
       "array([[<matplotlib.axes._subplots.AxesSubplot object at 0x123aad5d0>]],\n",
       "      dtype=object)"
      ]
     },
     "execution_count": 39,
     "metadata": {},
     "output_type": "execute_result"
    },
    {
     "data": {
      "image/png": "[encoded data removed]",
      "text/plain": [
       "<Figure size 432x288 with 1 Axes>"
      ]
     },
     "metadata": {
      "needs_background": "light"
     },
     "output_type": "display_data"
    }
   ],
   "source": [
    "df.hist(\"livesp\", color = \"cornflowerblue\", edgecolor = \"white\")"
   ]
  },
  {
   "cell_type": "markdown",
   "metadata": {},
   "source": [
    "**Интерпретация:** распределение нельзя назвать идеально симметричным, но, тем не менее, оно больше похоже на симметричное, чем предыдущее. Больше всего в наших данных квартир с жилой площадью 45-50 квадратных метров, число квартир с площадью выше или ниже этого диапазона примерно одинаково (симметричность), однако встретить квартиры площадью менее 45 квадратных метров шансов больше."
   ]
  },
  {
   "cell_type": "code",
   "execution_count": 40,
   "metadata": {},
   "outputs": [
    {
     "name": "stdout",
     "output_type": "stream",
     "text": [
      "46.33725490196078\n",
      "45.0\n",
      "0    45\n",
      "dtype: int64\n"
     ]
    }
   ],
   "source": [
    "print(df[\"livesp\"].mean())\n",
    "print(df[\"livesp\"].median())\n",
    "print(df[\"livesp\"].mode())"
   ]
  },
  {
   "cell_type": "markdown",
   "metadata": {},
   "source": [
    "**Интерпретация:** среднее чуть-чуть больше медианы, сигнал о небольшой скошенности вправо, однако медиана, мода и среднее почти равны между собой, что свидетельствует в пользу симметричности распределения (опять же, относительной). "
   ]
  },
  {
   "cell_type": "code",
   "execution_count": 41,
   "metadata": {},
   "outputs": [
    {
     "data": {
      "text/plain": [
       "<matplotlib.axes._subplots.AxesSubplot at 0x123bd6d90>"
      ]
     },
     "execution_count": 41,
     "metadata": {},
     "output_type": "execute_result"
    },
    {
     "data": {
      "image/png": "[encoded data removed]",
      "text/plain": [
       "<Figure size 432x288 with 1 Axes>"
      ]
     },
     "metadata": {
      "needs_background": "light"
     },
     "output_type": "display_data"
    }
   ],
   "source": [
    "df.boxplot(\"livesp\")"
   ]
  },
  {
   "cell_type": "markdown",
   "metadata": {},
   "source": [
    "**Интерпретация:** нетипичные значения присутствуют с обеих сторон, однако число нетипичных значений справа значительно. Квартиры площадью выше 62 квадратных метров можно считать нетипично большими для Москвы (на основании тех данных, что у нас есть), а квартиры площадью менее 30 квадратных метров – нетипично маленькими. Кроме того, из графика можно извлечь нижний квартиль (примерно 42) и верхний квартиль (50), а также медиану (45). "
   ]
  },
  {
   "cell_type": "markdown",
   "metadata": {},
   "source": [
    "Посмотрим также на особенности распределения расстояния до центра (`dist`):"
   ]
  },
  {
   "cell_type": "code",
   "execution_count": 42,
   "metadata": {},
   "outputs": [
    {
     "data": {
      "text/plain": [
       "array([[<matplotlib.axes._subplots.AxesSubplot object at 0x123618290>]],\n",
       "      dtype=object)"
      ]
     },
     "execution_count": 42,
     "metadata": {},
     "output_type": "execute_result"
    },
    {
     "data": {
      "image/png": "[encoded data removed]",
      "text/plain": [
       "<Figure size 432x288 with 1 Axes>"
      ]
     },
     "metadata": {
      "needs_background": "light"
     },
     "output_type": "display_data"
    }
   ],
   "source": [
    "df.hist(\"dist\", color = \"cornflowerblue\", edgecolor = \"white\")"
   ]
  },
  {
   "cell_type": "markdown",
   "metadata": {},
   "source": [
    "**Интерпретация:** вот тут уже скошенность влево, однако эта скошенность не очень сильная, так как нет большого разрыва между высотами столбиков (если бы были нетипичные значения слева, они были бы редкие, и тогда столбики были низкими, вспомните первый график). "
   ]
  },
  {
   "cell_type": "code",
   "execution_count": 43,
   "metadata": {},
   "outputs": [
    {
     "name": "stdout",
     "output_type": "stream",
     "text": [
      "11.015686274509823\n",
      "12.0\n",
      "0    12.0\n",
      "dtype: float64\n"
     ]
    }
   ],
   "source": [
    "print(df[\"dist\"].mean())\n",
    "print(df[\"dist\"].median())\n",
    "print(df[\"dist\"].mode())"
   ]
  },
  {
   "cell_type": "markdown",
   "metadata": {},
   "source": [
    "**Интерпретация:** медиана чуть больше среднего – сигнал о скошенности влево, однако разница совсем небольшая, медиана и мода совпадают. 50% квартир удалены от центра не более, чем на 12 километров, эта же удаленность от центра является самой распространенной в наших данных."
   ]
  },
  {
   "cell_type": "code",
   "execution_count": 44,
   "metadata": {},
   "outputs": [
    {
     "data": {
      "text/plain": [
       "<matplotlib.axes._subplots.AxesSubplot at 0x123d39ad0>"
      ]
     },
     "execution_count": 44,
     "metadata": {},
     "output_type": "execute_result"
    },
    {
     "data": {
      "image/png": "[encoded data removed]",
      "text/plain": [
       "<Figure size 432x288 with 1 Axes>"
      ]
     },
     "metadata": {
      "needs_background": "light"
     },
     "output_type": "display_data"
    }
   ],
   "source": [
    "df.boxplot(\"dist\")"
   ]
  },
  {
   "cell_type": "markdown",
   "metadata": {},
   "source": [
    "**Интерпретация:** тут уже нетипичных значений нет, виден большой размах значений – разброс между минимальным 3 и максимальным 17. То есть, в наборе данных есть очень разные квартиры, как удаленные от центра на 3 километра, так и удаленные на 17 километров. "
   ]
  }
 ],
 "metadata": {
  "kernelspec": {
   "display_name": "Python 3",
   "language": "python",
   "name": "python3"
  },
  "language_info": {
   "codemirror_mode": {
    "name": "ipython",
    "version": 3
   },
   "file_extension": ".py",
   "mimetype": "text/x-python",
   "name": "python",
   "nbconvert_exporter": "python",
   "pygments_lexer": "ipython3",
   "version": "3.7.4"
  }
 },
 "nbformat": 4,
 "nbformat_minor": 2
}
